{
 "cells": [
  {
   "cell_type": "code",
   "execution_count": 4,
   "metadata": {},
   "outputs": [],
   "source": [
    "x=[ ]\n",
    "a={\n",
    "                    \"text\": \"Please my dear, don't forget to add your API keys!\",\n",
    "                    \"audio\": \"audios/api_0.wav\",\n",
    "                    \"lipsync\": \"audios/api_0.json\",\n",
    "                    \"facialExpression\": \"angry\",\n",
    "                    \"animation\": \"Angry\"\n",
    "    }\n",
    "            "
   ]
  },
  {
   "cell_type": "code",
   "execution_count": 8,
   "metadata": {},
   "outputs": [
    {
     "name": "stdout",
     "output_type": "stream",
     "text": [
      "[{'text': \"Please my dear, don't forget to add your API keys!\", 'audio': 'audios/api_0.wav', 'lipsync': 'audios/api_0.json', 'facialExpression': 'angry', 'animation': 'Angry'}, {'text': \"Please my dear, don't forget to add your API keys!\", 'audio': 'audios/api_0.wav', 'lipsync': 'audios/api_0.json', 'facialExpression': 'angry', 'animation': 'Angry'}, {'text': \"Please my dear, don't forget to add your API keys!\", 'audio': 'audios/api_0.wav', 'lipsync': 'audios/api_0.json', 'facialExpression': 'angry', 'animation': 'Angry'}]\n"
     ]
    }
   ],
   "source": [
    "x.append(a)\n",
    "print(x)"
   ]
  },
  {
   "cell_type": "code",
   "execution_count": 9,
   "metadata": {},
   "outputs": [],
   "source": [
    "a['text']=\"alex\"\n",
    "a['audio']=\"audio\"\n",
    "a['lipsync']=\"lipsync\"\n",
    "a['facialExpression']=\"facialExpression\"\n",
    "a['animation']=\"animation\"\n",
    "x.append(a)\n"
   ]
  },
  {
   "cell_type": "code",
   "execution_count": 10,
   "metadata": {},
   "outputs": [
    {
     "data": {
      "text/plain": [
       "[{'text': 'alex',\n",
       "  'audio': 'audio',\n",
       "  'lipsync': 'lipsync',\n",
       "  'facialExpression': 'facialExpression',\n",
       "  'animation': 'animation'},\n",
       " {'text': 'alex',\n",
       "  'audio': 'audio',\n",
       "  'lipsync': 'lipsync',\n",
       "  'facialExpression': 'facialExpression',\n",
       "  'animation': 'animation'},\n",
       " {'text': 'alex',\n",
       "  'audio': 'audio',\n",
       "  'lipsync': 'lipsync',\n",
       "  'facialExpression': 'facialExpression',\n",
       "  'animation': 'animation'},\n",
       " {'text': 'alex',\n",
       "  'audio': 'audio',\n",
       "  'lipsync': 'lipsync',\n",
       "  'facialExpression': 'facialExpression',\n",
       "  'animation': 'animation'}]"
      ]
     },
     "execution_count": 10,
     "metadata": {},
     "output_type": "execute_result"
    }
   ],
   "source": [
    "x"
   ]
  }
 ],
 "metadata": {
  "kernelspec": {
   "display_name": "avatarbotPythonEnv",
   "language": "python",
   "name": "python3"
  },
  "language_info": {
   "codemirror_mode": {
    "name": "ipython",
    "version": 3
   },
   "file_extension": ".py",
   "mimetype": "text/x-python",
   "name": "python",
   "nbconvert_exporter": "python",
   "pygments_lexer": "ipython3",
   "version": "3.12.7"
  }
 },
 "nbformat": 4,
 "nbformat_minor": 2
}
