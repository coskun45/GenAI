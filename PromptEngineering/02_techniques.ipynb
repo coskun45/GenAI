{
 "cells": [
  {
   "cell_type": "code",
   "execution_count": 1,
   "metadata": {},
   "outputs": [],
   "source": [
    "import os \n",
    "import tiktoken\n",
    "import openai \n",
    "from dotenv import load_dotenv\n",
    "from langchain_openai import AzureChatOpenAI\n",
    "\n",
    "env_path = \".env\"\n",
    "load_dotenv(dotenv_path=env_path,override=True)\n",
    "api_type = \"azure\"\n",
    "endpoint = os.environ.get(\"AZURE_OPENAI_ENDPOINT\")\n",
    "api_key = os.environ.get(\"AZURE_OPENAI_API_KEY\")\n",
    "api_version = '2023-07-01-preview'\n",
    "deployment_name = os.environ.get(\"AZURE_DEPLOYMENT_NAME\")\n",
    "\n",
    "encoding = tiktoken.get_encoding('cl100k_base')\n",
    "\n",
    "azure_llm = AzureChatOpenAI(\n",
    "            deployment_name=deployment_name,\n",
    "            temperature=0,\n",
    "            max_tokens=None,\n",
    "            api_version=\"2023-07-01-preview\",\n",
    "            azure_endpoint =endpoint,\n",
    "            api_key=api_key,\n",
    "\n",
    "        )\n",
    "def get_completion(prompt, model=azure_llm):\n",
    "    messages =[{\"role\":\"user\",\"content\":prompt}]\n",
    "    response=model.invoke(messages)\n",
    "    return response.content"
   ]
  },
  {
   "cell_type": "markdown",
   "metadata": {},
   "source": [
    "### 1.) Self-Consistency\n",
    "- bir cok ayni mantikda soru cevap örnegi vererek bu sorular böyle cevaplanir few shot la ögretip daha sonra kendir sorumuzu sor.\n",
    "\n",
    "The primary objective is to improve the simplistic greedy decoding often used in chain-of-thought (CoT) prompting. In this technique, several diverse reasoning paths are sampled through few-shot CoT. The responses generated from these paths are then evaluated, and the most consistent answer is selected. This method has a significant impact on enhancing the effectiveness of CoT prompting, particularly in tasks that require arithmetic and commonsense reasoning. \n",
    "\n",
    "Reference: https://arxiv.org/abs/2203.11171\n",
    "\n",
    "![Self-Consistency](./images/self-consistency-cot.png)"
   ]
  },
  {
   "cell_type": "markdown",
   "metadata": {},
   "source": [
    "non self-consistency"
   ]
  },
  {
   "cell_type": "code",
   "execution_count": 2,
   "metadata": {},
   "outputs": [
    {
     "name": "stdout",
     "output_type": "stream",
     "text": [
      "When you were 12, your sister was 6 (half your age). Now that you are 70, your sister is 70 - 12 + 6 = 64 years old.\n"
     ]
    }
   ],
   "source": [
    "prompt = f\"\"\"\n",
    "When I was 12 my sister was half my age. Now\n",
    "I’m 70 how old is my sister?\n",
    "\"\"\"\n",
    "\n",
    "response = get_completion(prompt)\n",
    "print(response)"
   ]
  },
  {
   "cell_type": "markdown",
   "metadata": {},
   "source": [
    "with self-consistency"
   ]
  },
  {
   "cell_type": "code",
   "execution_count": 3,
   "metadata": {},
   "outputs": [
    {
     "name": "stdout",
     "output_type": "stream",
     "text": [
      "When you were 12, your sister was half your age, so she was 6 years old. The age difference between you and your sister is 6 years. Now that you are 70, your sister must be 70 - 6 = 64 years old. The answer is 64.\n"
     ]
    }
   ],
   "source": [
    "prompt = f\"\"\"\n",
    "Q: There are 15 trees in the grove. Grove workers will plant trees in the grove today. After they are done,\n",
    "there will be 21 trees. How many trees did the grove workers plant today?\n",
    "A: We start with 15 trees. Later we have 21 trees. The difference must be the number of trees they planted.\n",
    "So, they must have planted 21 - 15 = 6 trees. The answer is 6.\n",
    "Q: If there are 3 cars in the parking lot and 2 more cars arrive, how many cars are in the parking lot?\n",
    "A: There are 3 cars in the parking lot already. 2 more arrive. Now there are 3 + 2 = 5 cars. The answer is 5.\n",
    "Q: Leah had 32 chocolates and her sister had 42. If they ate 35, how many pieces do they have left in total?\n",
    "A: Leah had 32 chocolates and Leah’s sister had 42. That means there were originally 32 + 42 = 74\n",
    "chocolates. 35 have been eaten. So in total they still have 74 - 35 = 39 chocolates. The answer is 39.\n",
    "Q: Jason had 20 lollipops. He gave Denny some lollipops. Now Jason has 12 lollipops. How many lollipops\n",
    "did Jason give to Denny?\n",
    "A: Jason had 20 lollipops. Since he only has 12 now, he must have given the rest to Denny. The number of\n",
    "lollipops he has given to Denny must have been 20 - 12 = 8 lollipops. The answer is 8.\n",
    "Q: Shawn has five toys. For Christmas, he got two toys each from his mom and dad. How many toys does\n",
    "he have now?\n",
    "A: He has 5 toys. He got 2 from mom, so after that he has 5 + 2 = 7 toys. Then he got 2 more from dad, so\n",
    "in total he has 7 + 2 = 9 toys. The answer is 9.\n",
    "Q: There were nine computers in the server room. Five more computers were installed each day, from\n",
    "monday to thursday. How many computers are now in the server room?\n",
    "A: There are 4 days from monday to thursday. 5 computers were added each day. That means in total 4 * 5 =\n",
    "20 computers were added. There were 9 computers in the beginning, so now there are 9 + 20 = 29 computers.\n",
    "The answer is 29.\n",
    "Q: Michael had 58 golf balls. On tuesday, he lost 23 golf balls. On wednesday, he lost 2 more. How many\n",
    "golf balls did he have at the end of wednesday?\n",
    "A: Michael initially had 58 balls. He lost 23 on Tuesday, so after that he has 58 - 23 = 35 balls. On\n",
    "Wednesday he lost 2 more so now he has 35 - 2 = 33 balls. The answer is 33.\n",
    "Q: Olivia has $23. She bought five bagels for $3 each. How much money does she have left?\n",
    "A: She bought 5 bagels for $3 each. This means she spent $15. She has $8 left.\n",
    "Q: When I was 12 my sister was half my age. Now I’m 70 how old is my sister?\n",
    "A:\n",
    "\"\"\"\n",
    "\n",
    "response = get_completion(prompt)\n",
    "print(response)"
   ]
  },
  {
   "cell_type": "markdown",
   "metadata": {},
   "source": [
    "### 2.) Generated Knowledge Prompting\n",
    "\n",
    "Reference: https://arxiv.org/pdf/2110.08387.pdf\n",
    "\n",
    "![](./images/generated-knowledge-prompting.png)"
   ]
  },
  {
   "cell_type": "code",
   "execution_count": 6,
   "metadata": {},
   "outputs": [
    {
     "name": "stdout",
     "output_type": "stream",
     "text": [
      "İstanbul, yüz ölçümü olarak Konya'dan daha büyüktür. İstanbul'un yüz ölçümü 5,343 km² iken, Konya'nın yüz ölçümü 38,257 km²'dir. Bu nedenle İstanbul, Konya'dan daha büyük bir şehirdir.\n"
     ]
    }
   ],
   "source": [
    "prompt = f\"\"\"\n",
    "Hangi sehir yüz ölcümü olarak daha büyük? Istanbul mu Konya mi?\n",
    "\"\"\"\n",
    "\n",
    "response = get_completion(prompt)\n",
    "print(response)# yanlis cevap üretti"
   ]
  },
  {
   "cell_type": "code",
   "execution_count": 8,
   "metadata": {},
   "outputs": [
    {
     "name": "stdout",
     "output_type": "stream",
     "text": [
      "- Konya is the seventh most populous city in Turkey, with a population of over 2.2 million people.\n",
      "- Istanbul is the most populous city in Turkey, with a population of over 15 million people.\n",
      "- Konya covers an area of 38,873 square kilometers, making it the largest city in Turkey by area.\n",
      "- Istanbul covers an area of 5,343 square kilometers, making it the second largest city in Turkey by area.\n",
      "- Konya is located in the central Anatolian region of Turkey, while Istanbul is located in the northwest of the country, on the European side.\n"
     ]
    }
   ],
   "source": [
    "prompt = f\"\"\"\n",
    "Generate some knowledge about the sizes of Konya and Istanbul:\n",
    "\"\"\"\n",
    "\n",
    "response = get_completion(prompt)\n",
    "print(response)"
   ]
  },
  {
   "cell_type": "code",
   "execution_count": 10,
   "metadata": {},
   "outputs": [
    {
     "name": "stdout",
     "output_type": "stream",
     "text": [
      "Konya, yüz ölçümü olarak daha büyük bir şehirdir.\n"
     ]
    }
   ],
   "source": [
    "prompt = f\"\"\"\n",
    "- Konya is the seventh most populous city in Turkey, with a population of over 2.2 million people.\n",
    "- Istanbul is the most populous city in Turkey, with a population of over 15 million people.\n",
    "- Konya covers an area of 38,873 square kilometers, making it the largest city in Turkey by area.\n",
    "- Istanbul covers an area of 5,343 square kilometers, making it the second largest city in Turkey by area.\n",
    "- Konya is located in the central Anatolian region of Turkey, while Istanbul is located in the northwest of the country, on the European side.\n",
    "\n",
    "\n",
    "Hangi sehir yüz ölcümü olarak daha büyük? Istanbul mu Konya mi?\n",
    "\"\"\"\n",
    "\n",
    "response = get_completion(prompt)\n",
    "print(response)# dogru cevabi ilk önce konu ile ilgili bilgileri getirerek, bu kontex icinden cevaba zoom yapmasini sagladik. Ilk halinde yaptigi hesaplamada büyük ihtimal istanbul ve büyük kelimeleri non parametrik hafizasinda cok gectigi icin onlara attention yapti ve yüz ölcümüne yeterince attention yapamadi."
   ]
  },
  {
   "cell_type": "markdown",
   "metadata": {},
   "source": [
    "### 3.) Tree of Thoughts (ToT)\n",
    "\n",
    "References:\n",
    "- https://arxiv.org/abs/2305.10601\n",
    "- https://arxiv.org/abs/2305.08291\n",
    "\n",
    "![](./images/tot.png)"
   ]
  },
  {
   "cell_type": "code",
   "execution_count": 11,
   "metadata": {},
   "outputs": [
    {
     "name": "stdout",
     "output_type": "stream",
     "text": [
      "Istanbul is larger in terms of area than Konya. Istanbul covers an area of 5,343 square kilometers, while Konya covers an area of 38,873 square kilometers.\n"
     ]
    }
   ],
   "source": [
    "prompt = f\"\"\"\n",
    "Which city is larger in terms of area: Istanbul or Konya ?\n",
    "\"\"\"\n",
    "\n",
    "response = get_completion(prompt)\n",
    "print(response)# yanlis cevap üretti"
   ]
  },
  {
   "cell_type": "code",
   "execution_count": 12,
   "metadata": {},
   "outputs": [
    {
     "name": "stdout",
     "output_type": "stream",
     "text": [
      "Expert 1: First, I will look up the land area of Istanbul.\n",
      "Expert 2: I will do the same for Konya.\n",
      "Expert 3: Istanbul has a land area of 5,343 square kilometers.\n",
      "Expert 4: Konya has a land area of 38,257 square kilometers.\n",
      "Expert 5: So, Konya is larger in terms of area than Istanbul.\n",
      "\n",
      "Final conclusion: Konya is larger in terms of area than Istanbul.\n"
     ]
    }
   ],
   "source": [
    "prompt = f\"\"\"\n",
    "Imagine five different experts are answering this question.\n",
    "All experts will write down 1 step of their thinking,\n",
    "then share it with the group.\n",
    "Then all experts will go on to the next step, etc.\n",
    "If any expert realises they're wrong at any point then they leave.\n",
    "The question is...\n",
    "\n",
    "Which city is larger in terms of area: Istanbul or Konya ?\n",
    "\n",
    "Give me a final conclusion.\n",
    "\"\"\"\n",
    "#Prompt reference: https://github.com/dave1010/tree-of-thought-prompting\n",
    "\n",
    "response = get_completion(prompt)\n",
    "print(response)"
   ]
  },
  {
   "cell_type": "markdown",
   "metadata": {},
   "source": [
    "### 4.) Rephase and Respond (RaR)\n",
    "\n",
    "References:\n",
    "https://arxiv.org/abs/2311.04205"
   ]
  },
  {
   "cell_type": "code",
   "execution_count": 13,
   "metadata": {},
   "outputs": [
    {
     "name": "stdout",
     "output_type": "stream",
     "text": [
      "Yes, 20th of January is an even day.\n"
     ]
    }
   ],
   "source": [
    "prompt = f\"\"\"\n",
    "Paul is born on 20th of January 1990. Was Paul born in an even day?\n",
    "\"\"\"\n",
    "\n",
    "response = get_completion(prompt)\n",
    "print(response)"
   ]
  },
  {
   "cell_type": "code",
   "execution_count": 14,
   "metadata": {},
   "outputs": [
    {
     "name": "stdout",
     "output_type": "stream",
     "text": [
      "Was Paul born on a day that is divisible by 2? \n",
      "\n",
      "Yes, Paul was born on the 20th of January, which is an even number and therefore divisible by 2. So, Paul was indeed born on an even day.\n"
     ]
    }
   ],
   "source": [
    "prompt = f\"\"\"\n",
    "Paul is born on 20th of January 1990. Was Paul born in an even day?\n",
    "\n",
    "Rephrase and expand the question, and respond.\n",
    "\"\"\"\n",
    "\n",
    "response = get_completion(prompt)\n",
    "print(response)"
   ]
  },
  {
   "cell_type": "markdown",
   "metadata": {},
   "source": [
    "### 5.) Retrievel Augmented Generation\n",
    "\n",
    "![](./images/rag.jpg)\n",
    "\n",
    "Reference: https://arxiv.org/pdf/2005.11401.pdf"
   ]
  }
 ],
 "metadata": {
  "kernelspec": {
   "display_name": "genAIenv",
   "language": "python",
   "name": "python3"
  },
  "language_info": {
   "codemirror_mode": {
    "name": "ipython",
    "version": 3
   },
   "file_extension": ".py",
   "mimetype": "text/x-python",
   "name": "python",
   "nbconvert_exporter": "python",
   "pygments_lexer": "ipython3",
   "version": "3.12.5"
  }
 },
 "nbformat": 4,
 "nbformat_minor": 2
}
