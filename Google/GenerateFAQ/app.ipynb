{
 "cells": [
  {
   "cell_type": "code",
   "execution_count": 50,
   "metadata": {},
   "outputs": [],
   "source": [
    "import json\n",
    "def generate_faq_html(faq_list,output_file=\"faq.html\"):\n",
    "    # start creating HTML Structure\n",
    "    html_content=\"\"\" \n",
    "    <!DOCTYPE html>\n",
    "    <html lang=\"de\">\n",
    "    <head>\n",
    "        <meta charset=\"UTF-8\">\n",
    "        <meta name=\"viewport\" content=\"width=device-width, initial-scale=1.0\">\n",
    "        <title>FAQ</title>\n",
    "        <style>\n",
    "            body {\n",
    "            font-family: Arial, sans-serif;\n",
    "            margin: 20px;\n",
    "            padding:0;\n",
    "            background-color: #f4f4f4;\n",
    "            }\n",
    "            .faq-container {\n",
    "            background: white;\n",
    "            padding: 20px;\n",
    "            border-radius: 8px;\n",
    "            max-width: 800px;\n",
    "            margin: auto;\n",
    "            box-shadow: 0 0 10px rgba(0, 0, 0, 0.1);\n",
    "            }\n",
    "            h1 {\n",
    "            text-align: center;\n",
    "            color: #333;\n",
    "            margin-bottom: 40px;\n",
    "            }\n",
    "            .faq-item h3 {\n",
    "            margin:0;\n",
    "            padding: 10px;\n",
    "            cursor: pointer;\n",
    "            background-color: #f9f9f9;\n",
    "            color: black;\n",
    "            border-radius: 5px;\n",
    "            }\n",
    "            .faq-item p {\n",
    "            margin: 0;\n",
    "            padding: 10px;\n",
    "            display: none;\n",
    "            background-color: #f9f9f9;\n",
    "            border: 1px solid #ddd;\n",
    "            border-radius: 5px;\n",
    "            }\n",
    "        </style>\n",
    "        <script>\n",
    "            function toggleAnswer(id){\n",
    "                var answer = document.getElementById(id);\n",
    "                if (answer.style.display === \"none\" || answer.style.display === \"\"){\n",
    "                    answer.style.display = \"block\";\n",
    "                }else{\n",
    "                    answer.style.display = \"none\";\n",
    "                }\n",
    "            }\n",
    "        </script>\n",
    "    </head>\n",
    "    <body>\n",
    "        <div class=\"faq-container\">\n",
    "\"\"\"\n",
    "\n",
    "    # loop through the JSON objects and create HTML for each FQA item\n",
    "    for idx, faq in enumerate(faq_list):\n",
    "        faq_data = json.loads(faq)\n",
    "        question = faq_data[\"Question\"]\n",
    "        answer= faq_data[\"Answer\"]\n",
    "\n",
    "        html_content +=f\"\"\"\n",
    "        <div class=\"faq-item\">\n",
    "            <h3 onclick=\"toggleAnswer('answer{idx}')\">{question}</h3>\n",
    "            <p id=\"answer{idx}\">{answer}</p>\n",
    "        </div>\n",
    "    \"\"\"\n",
    "    # close the html structure\n",
    "    html_content += \"\"\" \n",
    "        </div>\n",
    "    </body>\n",
    "    </html>\n",
    "    \"\"\"\n",
    "    # write the html content to a file\n",
    "\n",
    "    with open(output_file, \"w\", encoding=\"utf-8\") as file:\n",
    "        file.write(html_content)\n",
    "    print(f\"FAQ HTML page generated successfully: {output_file}\")\n"
   ]
  },
  {
   "cell_type": "code",
   "execution_count": 51,
   "metadata": {},
   "outputs": [],
   "source": [
    "from langchain_community.document_loaders import PyPDFLoader\n",
    "import tkinter as tk\n",
    "from tkinter import filedialog"
   ]
  },
  {
   "cell_type": "code",
   "execution_count": 52,
   "metadata": {},
   "outputs": [],
   "source": [
    "import textwrap\n",
    "from IPython.display import display, Markdown\n",
    "def print_formatted_md(md_text, max_line_length=80):\n",
    "    lines=md_text.splitlines()\n",
    "    wrapped_lines=[]\n",
    "    \n",
    "    for line in lines:\n",
    "        #handle list items and paragraphs with bold text\n",
    "        if line.startswith(('* ', '- ', '> ', '**')):\n",
    "            prefix=\"\"\n",
    "            if line.startswith('**'):\n",
    "                prefix = '**'\n",
    "                line = line[2:]\n",
    "            elif line.startswith('- '):\n",
    "                prefix = '-'\n",
    "                line = line[2:]\n",
    "            elif line.startswith('> '):\n",
    "                prefix='> '\n",
    "                line = line[2:]\n",
    "            \n",
    "            wrapped = textwrap.wrap(line, width=max_line_length - len(prefix))\n",
    "            for i, wrap in enumerate(wrapped):\n",
    "                wrapped_lines.append(f\"{prefix}{wrap}\" if i == 0 else f\"{' ' * len(prefix)}{wrap}\" )\n",
    "        else:\n",
    "            wrapped_lines.extend(textwrap.wrap(line,width=max_line_length))\n",
    "    \n",
    "\n",
    "    wrapped_text = \"\\n\".join(wrapped_lines)\n",
    "\n",
    "    display(Markdown(wrapped_text))\n"
   ]
  },
  {
   "cell_type": "code",
   "execution_count": 53,
   "metadata": {},
   "outputs": [
    {
     "name": "stdout",
     "output_type": "stream",
     "text": [
      "C:/Users/ecoskun/Desktop/githubUpload/GenAI/Google/GenerateFAQ/2020-Scrum-Guide-German.pdf\n"
     ]
    }
   ],
   "source": [
    "# tkinter kök penceresini gizleyin\n",
    "root = tk.Tk()\n",
    "root.withdraw()  # Ana pencereyi gizle\n",
    "# Dosya seçici penceresini açın\n",
    "file_path = filedialog.askopenfilename(\n",
    "    title=\"Choose Pdf datei\",\n",
    "    filetypes=((\"PDF files\", \"*.pdf\"), (\"All files\", \"*.*\"))\n",
    ")\n",
    "\n",
    "if file_path:\n",
    "    pdf_path=file_path\n",
    "    print(pdf_path)\n",
    "else:\n",
    "    print(\"Upload fail.\")"
   ]
  },
  {
   "cell_type": "code",
   "execution_count": 54,
   "metadata": {},
   "outputs": [],
   "source": [
    "loader = PyPDFLoader(pdf_path)\n",
    "documents=loader.load_and_split()"
   ]
  },
  {
   "cell_type": "code",
   "execution_count": 55,
   "metadata": {},
   "outputs": [
    {
     "name": "stdout",
     "output_type": "stream",
     "text": [
      "20\n"
     ]
    }
   ],
   "source": [
    "print(len(documents))\n",
    "counter=0\n",
    "text=\"\"\n",
    "for doc in documents:\n",
    "    text+=doc.page_content\n",
    "    "
   ]
  },
  {
   "cell_type": "code",
   "execution_count": 56,
   "metadata": {},
   "outputs": [
    {
     "data": {
      "text/plain": [
       "'Ken Schwaber & Jeff Sutherland  \\n \\n \\n \\n \\n \\n \\n \\n \\n \\n \\nDer Scrum Guide \\n \\nDer gültige Leitfaden für Scrum: Die Spielregeln  \\n \\n \\n \\n \\n \\n \\n \\n \\n \\n \\n \\n \\n \\n \\n \\nNovember  20201 Der Sinn des Scrum Guides  \\n \\nWir haben Scrum in den frühen 1990er -Jahren entwickelt. Wir haben die erste Version des Scrum \\nGuides im Jahr 2010 geschrieben, um Menschen auf der ganzen Welt dabei zu helfen, Scrum zu \\nverstehen. Wir haben den Guide seitdem durch kleine, funktionale  Aktual isierungen weiterentwickelt. \\nWir stehen g emeinsam dahinter.  \\n \\nDer Scrum Guide enthält die Definition von Scrum. Jedes Element von Scrum dient einem bestimmten \\nZweck, der für den Gesamtwert und die mit Scrum erzielten Ergebnisse wesentlich ist. Den Kern oder  die \\nGrundideen von Scrum zu verändern, Elemente wegzulassen oder den Regeln von Scrum nicht zu folgen, \\nverdeckt Probleme, begrenzt de n Nutzen  und macht Scrum  im Zweifel sogar nutzlos.  \\n  \\nWir verfolgen den zunehmenden Einsatz von Scrum in einer stetig kompl exer werdenden Welt. Wir \\nsehen demütig, wie Scrum in zahlreichen Bereichen komplexer Arbeit über die Softwareentwicklung \\nhinaus - wo Scrum seine Wurzeln hat -  eingesetzt wird. Während sich die Verwendung von Scrum weiter \\nverbreitet, wird diese Arbeit von E ntwickler:innen, Forscher:innen, Analyst:innen, Wissenschaftler:innen \\nund anderen Spezialist:innen getan. Wir verwenden das Wort „ Developer:innen” in Scrum nicht, um \\njemanden auszuschließen, sondern um zu vereinfachen. Wer auch immer vom Einsatz von Scrum \\nprofitiert, soll sich angesprochen fühlen.  \\n \\nBeim Einsatz von Scrum können Muster, Prozesse und Erkenntnisse angewendet und entwickelt werden, \\ndie zum Scrum -Rahmenwerk passen, wie es in diesem Dokument beschrieben ist. Ihre Beschreibung \\ngeht über den Zweck des Scrum Guides hinaus, da sie kontextabhängig sind und sich, je nachdem wie \\nScrum eingesetzt wird, stark unterscheiden. Solche Taktiken für die Anwendung innerhalb des Scrum -\\nRahmenwerks variieren stark und werden an anderer Stelle beschrieben.  \\n \\n  \\nKen Schwaber & Jeff Sutherland , Juli 2020  \\n \\n \\n \\n \\n  \\n© 2020 Ken Schwaber and Jeff Sutherland  \\n \\nThis publication is offered for license under the Attribution Share -Alike license of Creative Commons, \\naccessible at http://creativecommons.org/licenses/by -sa/4.0/lega lcode and also described in summary \\nform at http://creativecommons.org/licenses/by -sa/4.0/. By utilizing this Scrum Guide, you \\nacknowledge and agree that you have read and agree to be bound by the terms of the Attribution \\nShare -Alike license of Creative Co mmons.2  \\nScrum -Definition  ................................ ................................ ................................ ................................ ..... 3 \\nScrum -Theorie  ................................ ................................ ................................ ................................ .........  3 \\nTransparenz  ................................ ................................ ................................ ................................ .........  4 \\nÜberprüfung  ................................ ................................ ................................ ................................ ........  4 \\nAnpassung  ................................ ................................ ................................ ................................ ...........  4 \\nScrum -Werte ................................ ................................ ................................ ................................ ...........  4 \\nScrum Team  ................................ ................................ ................................ ................................ ............  5 \\nDeveloper:innen  ................................ ................................ ................................ ................................ .. 6 \\nProduct Owner:in  ................................ ................................ ................................ ................................  6 \\nScrum Master:in  ................................ ................................ ................................ ................................ .. 7 \\nScrum Events  ................................ ................................ ................................ ................................ ...........  8 \\nDer Sprint  ................................ ................................ ................................ ................................ ............  8 \\nSprint Planning  ................................ ................................ ................................ ................................ .... 9 \\nDaily Scrum  ................................ ................................ ................................ ................................ .......  10 \\nSprint Review  ................................ ................................ ................................ ................................ .... 10 \\nSprint Retrospective  ................................ ................................ ................................ ..........................  10 \\nScrum -Artefakte  ................................ ................................ ................................ ................................ .... 11 \\nProduct Backlog  ................................ ................................ ................................ ................................ . 11 \\nCommitment: Produkt -Ziel ................................ ................................ ................................ ............  12 \\nSprint Backlog  ................................ ................................ ................................ ................................ .... 12 \\nCommitment: Sprint -Ziel................................ ................................ ................................ ................  12 \\nIncrement  ................................ ................................ ................................ ................................ ..........  13 \\nCommitment: Definition of Done  ................................ ................................ ................................ ... 13 \\nSchlussbemerkung ................................ ................................ ................................ ................................ . 14 \\nDanksagungen  ................................ ................................ ................................ ................................ ... 14Danksagungen  ................................ ................................ ................................ ................................ ... 14 \\nPersonen  ................................ ................................ ................................ ................................ .......  14 \\nScrum -Guide -Historie  ................................ ................................ ................................ ....................  14 \\nÄnderungen des Scrum Guides von 2020 im Vergleich zu 2017  ................................ ..........................  14 \\nÜbersetzung  ................................ ................................ ................................ ................................ ...... 16 \\nÄnderungshistorie der Übersetzung  ................................ ................................ ...............................  16 \\nÜbersetzungs -Glossar ................................ ................................ ................................ ....................  173  \\nScrum -Definition  \\nScrum ist ein leichtgewichtiges Rahmenwerk, welches Menschen, Teams und Organisationen hilft, Wert \\ndurch adaptive Lösungen für komplexe Probleme zu generieren.  \\n \\nKurz gesagt fordert  Scrum, dass  ein:e Scrum Master:in ein Umfeld fördert , in dem  \\n  \\n1. ein:e Produ ct Owner:in die Arbeit für ein komplexes Problem in ein Product Backlog ein sortiert ; \\n2. das Scrum Team aus einer Auswahl dieser Arbeit innerhalb eines Sprints ein wertvolles \\nIncrement erzeugt ; \\n3. das Scrum Team und dessen Stakeholder:innen die Ergebnisse überprüfen und für den nächsten \\nSprint anpassen ; \\n4. diese Schritte wiederholt werden.  \\n \\nScrum ist einfach. Probiere es so aus, wie es ist, und finde heraus, ob seine Philosophie, Theorie und \\nStruktur da bei helfen , Ziele zu erreichen und Wert zu schaffen. Das Scrum -Rahmenwerk ist absichtlich \\nunvollständig und definiert nur die Teile, die zur Umsetzung der Scrum -Theorie erforderlich sind. Scrum \\nbaut auf der kollektiven Intelligenz der Personen auf, die es an wenden. Anstatt den Menschen \\ndetaillierte Anweisungen zu geben, leiten die Regeln von Scrum ihre Beziehungen und Interaktionen.  \\n \\nInnerhalb des Rahmenwerks können verschiedene Prozesse, Techniken und Methoden eingesetzt \\nwerden. Scrum umhüllt bestehende Prak tiken oder macht sie überflüssig. Scrum macht die relative \\nWirksamkeit des aktuellen Managements, der Umgebung und der Arbeitstechniken sichtbar, so dass \\nVerbesserungen vorgenommen werden können.  \\nScrum -Theor ie \\nScrum basiert auf Empirie und Lean Thinking. Empirie bedeutet, dass Wissen aus Erfahrung gewonnen \\nwird und Entscheidungen auf der Grundlage von Beobachtungen getroffen werden. Lean Thinking \\nreduziert Verschwendung und fokussiert auf das Wesentliche.  \\n \\nScrum verwendet einen iterativen, inkrem entellen Ansatz zur Optimierung der Vorhersagbarkeit und zur \\nRisikokontrolle. Scrum setzt auf  Personengruppen, die gemeinsam über alle Fähigkeiten und \\nFachkenntnisse verfügen, um die Arbeit zu erledigen und solche Fähigkeiten im Bedarfsfall zu teilen oder \\nzu erwerben.  \\n \\nScrum kombiniert vier formale Events zur Überprüfung und Anpassung innerhalb eines umspannenden \\nEvents, des Sprints. Diese Events funktionieren, weil sie die empirischen Scrum -Säulen Transparenz, \\nÜberprüfung und Anpassung implementieren.4  \\nTransparenz  \\nDer sich entwickelnde Prozess und die entstehende Arbeit müssen sowohl für diejenigen sichtbar sein, \\ndie die Arbeit ausführen, als auch für diejenigen, die die Arbeit empfangen. Bei Scrum basieren wichtige \\nEntscheidungen auf dem wahrgenommenen Zus tand seiner drei formalen Artefakte. Artefakte, die \\nwenig transparent sind, können zu Entscheidungen führen, die den Wert mindern und das Risiko \\nerhöhen.  \\n \\nTransparenz ermöglicht Überprüfung. Eine Überprüfung ohne Transparenz ist irreführend und \\nverschwende risch.  \\nÜberprüfung  \\nDie Scrum -Artefakte und der Fortschritt in Richtung der vereinbarten Ziele müssen häufig und sorgfältig \\nüberprüft werden, um potenziell unerwünschte Abweichungen oder Probleme aufzudecken. Um bei der Überprüfung zu helfen, bietet Scrum e inen Rhythmus  in Form seiner fünf Events.  \\n  \\nÜberprüfung ermöglicht Anpassung. Überprüfung ohne Anpassung wird als unsinnig betrachtet. Scrum Events sind darauf ausgerichtet, Veränderungen zu bewirken . \\nAnpassung  \\nWenn einzelne Aspekte eines Prozesses von akz eptablen Grenzen abweichen oder wenn das \\nresultierende Produkt nicht akzeptabel ist, müssen der angewandte Prozess oder die produzierten \\nErgebnisse angepasst werden. Die Anpassung muss so schnell wie möglich erfolgen, um weitere \\nAbweichungen zu minimieren.  \\n  \\nDie Anpassung wird schwieriger, wenn die beteiligten Personen nicht bevollmächtigt (empowered) sind \\noder sich nicht selbst managen können. Von einem Scrum Team wird erwartet, dass es sich in dem \\nMoment anpasst, in dem es durch Überprüfung etwas Neues lernt.  \\n \\nScrum -Werte  \\nDie erfolgreiche Anwendung von Scrum hängt davon ab, dass die Menschen immer besser in der Lage \\nsind, fünf Werte zu leben:  \\nCommitment, Fokus, Offenheit, Respekt und Mut  \\n Das Scrum Team committet sich, seine Ziele zu erreichen und sich gegenseitig zu unterstützen. Sein \\nprimärer Fokus  liegt auf der Arbeit des Sprints, um den bestmöglichen Fortschritt in Richtung dieser5 Ziele zu bewirken . Das Scrum Team und dessen Stakeholder:innen sind offen in Bezug auf die Arbeit und \\ndie Herausford erungen. Die Mitglieder des Scrum Teams respektieren sich gegenseitig als fähige, \\nunabhängige Personen und werden als solche  auch  von den Menschen, mit denen sie \\nzusammenarbeiten, respektiert. Die Mitglieder des Scrum Teams haben den Mut, das Richtige zu t un: an \\nschwierigen Problemen zu arbeiten.  \\n \\nDiese Werte geben dem Scrum Team die Richtung vor, was seine Arbeit, seine Handlungen und sein Verhalten betrifft. Die Entscheidungen, die getroffen werden, die Schritte, die unternommen werden, \\nund die Art und We ise, wie Scrum angewendet wird, sollten diese Werte stärken und nicht schmälern \\noder untergraben. Die Mitglieder des Scrum Teams lernen und erforschen die Werte, während sie in den \\nEvents und mit den Artefakten von Scrum arbeiten. Wenn diese Werte durch da s Scrum Team und die \\nMenschen, mit denen es  arbeite t, verkörpert werden, werden die empirischen Scrum -Säulen \\nTransparenz, Überprüfung und Anpassung lebendig und bauen Vertrauen auf.  \\nScrum Team \\nDer zentrale Bestandteil von Scrum ist ein kleines Team von Men schen, ein Scrum Team. Das Scrum \\nTeam besteht aus einem:einer Scrum Master:in, einem:einer Product Owner:in und Developer:innen. \\nInnerhalb eines Scrum Teams gibt es keine Teilteams oder Hierarchien. Es handelt sich um  eine \\ngeschlossene Einheit von Fachleuten, die sich auf ein Ziel konzentrieren, das Produkt -Ziel. \\n Scrum Teams sind interdisziplinär, d.h. die Mitglieder verfügen über alle Fähigkeiten, die erforderlich \\nsind, um in jedem Sprint Wert zu schaffen. Sie manage n sich außerdem selbst, d.h. sie entscheiden \\nintern, wer was wann und wie macht.  \\n Das Scrum Team ist klein genug, um flink  zu bleiben und groß genug, um innerhalb eines Sprints \\nbedeutsame Arbeit fertigzustellen, üblicherweise 10 oder weniger Personen. Im A llgemeinen ha ben wir  \\nfestgestellt , dass kleinere Teams besser kommunizieren und produktiver sind. Wenn Scrum Teams zu \\ngroß werden, sollten sie  in Erwägung ziehen, sich in mehrere zusammengehörende Scrum Teams zu \\nreorganisieren, die sich alle auf dasselbe P rodukt konzentrieren. Daher sollten sie sich Produkt -Ziel, \\nProduct Backlog und Product Owner:in teilen.  \\n Das Scrum Team ist umsetzungsverantwortlich (responsible) für alle produktbezogenen Aktivitäten: \\nZusammenarbeit mit den Stakeholder:innen, Verifikatio n, Wartung, Betrieb, Experimente, Forschung \\nund Entwicklung und alles, was sonst noch erforderlich sein könnte. Es ist von der Organisation so \\naufgebaut und befähigt, dass es seine Arbeit selbst steuert. Das Arbeiten in Sprints mit einer \\nnachhaltigen Gesch windigkeit verbessert den Fokus und die Kontinuität des Scrum Teams.  \\n \\nDas gesamte Scrum Team ist ergebnisverantwortlich  (accountable) , in jedem Sprint ein wertvolles, \\nnützliches Increment zu schaffen. Scrum definiert drei spezifische Ergebnisverantwortlic hkeiten \\ninnerhalb des Scrum Teams:  Developer:innen, Product Owner:in und Scrum Master:in6 Developer :innen  \\nDeveloper:innen sind jene Personen im Scrum Team, die sich der Aufgabe verschrieben haben, jede n \\nSprint jeden Aspekt eines nutzbaren Increments zu sch affen.  \\n \\nDie spezifischen Fähigkeiten, die von den Developer:innen benötigt werden, sind oft breit gefächert und \\nvariieren je nach Arbeit skontext . Die Developer:innen sind jedoch immer ergebnisverantwortlich dafür,  \\n● einen Plan für den Sprint zu erstellen, da s Sprint Backlog;  \\n● Qualität durch die Einhaltung einer Definition of Done einzubringen;  \\n● täglich ihren Plan zur Erreichung des  Sprint -Ziels anzupassen; und  \\n● sich wechselseitig als Expert:innen zur Verantwortung zu ziehe n. \\nProduct Owner :in \\nDer:die Product Owner:in ist ergebnisverantwortlich für die Maximierung des Wertes des Produkts, der sich aus der Arbeit des Scrum Teams ergibt. Wie dies geschieht, kann je nach  Organisation, Scrum Team \\nund Individuum  sehr unterschiedlich sein.  \\n  \\nDer:die Product Owner:in ist auch für ein effektives Product -Backlog -Management \\nergebnisverantwortlich, das Folgendes umfasst:  \\n \\n● das Produkt -Ziel zu entwickeln und explizit zu kommunizieren;  \\n● die Product -Backlog -Einträge zu erstellen und klar zu kommuniziere n; \\n● die Reihenfolge der Product -Backlog -Einträge festzulegen; und  \\n● sicherzustellen, dass das Product Backlog transparent, sichtbar und verstanden  ist. \\n \\nDer:die Product Owner:in kann die oben genannten Arbeiten selbst durchführen oder die \\nUmsetzungsverantwort ung an andere delegieren. Unabhängig davon bleibt der:die Product Owner:in \\nergebnisverantwortlich.  \\n  \\nDamit der:die Product Owner:in Erfolg haben kann , muss die gesamte Organisation seine:ihre \\nEntscheidungen respektieren. Diese Entscheidungen sind im Inhalt  und in der Reihenfolge des Product \\nBacklogs sowie durch das überprüfbare Increment beim Sprint Review , sichtbar.  \\n  \\nDer:die Product Owner:in ist eine Person, kein Gremium. Der:die Product Owner:in kann die Bedürfnisse \\nvieler Stakeholder:innen im Product Ba cklog berücksichtigen. Diejenigen, die das Product Backlog \\nändern möchten, können dies tun, indem sie versuchen, den:die Product Owner:in zu überzeugen.7 Scrum Master :in \\nDer:die Scrum Master:in ist ergebnisverantwortlich für die Einführung von Scrum, wie es im Scrum \\nGuide definiert ist. Er:sie tut dies, indem er:sie allen dabei hilft, die Scrum -Theorie und - Praxis zu \\nverstehen, sowohl innerhalb des Scrum Teams als auch in der Organisation.  \\n  \\nDer:die Scrum Master:in ist ergebnisverantwortlich für die Effekt ivität des Scrum Teams. Er:sie tut dies, \\nindem er:sie das Scrum Team in die Lage versetzt, seine Praktiken innerhalb des Scrum -Rahmenwerks zu \\nverbessern.  \\n  \\nScrum Master:innen sind echte Führungs persönlichkeiten , die dem Scrum Team und der \\nGesamtorganisation dienen.  \\n \\nDer:die Scrum Master:in dient dem Scrum Team auf unterschiedliche Weise, unter anderem dadurch,  \\n● die Teammitglieder in Selbstmanagement und interdisziplinärer Zusammenarbeit zu coachen;  \\n● das Scrum Team bei der Fokussierung auf die Schaffung von hochwertigen Increments zu \\nunterstützen, die der Definition of Done entsprechen;  \\n● die Beseitigung von Hindernissen  (impediments)  für den Fortschritt des Scrum Teams zu \\nbewirken; und  \\n● sicherzustellen, dass alle Events von Sc rum stattfinden, positiv und produktiv sind und innerhalb \\nder Time box bleiben.  \\n \\nDer:die Scrum Master:in dient dem:der Product Owner:in auf unterschiedliche Weise, unter anderem \\ndadurch,  \\n● bei der Suche nach Techniken zur effektiven Definition des Produkt -Ziels und zum Product -\\nBacklog -Management zu helfen;  \\n● dem Scrum Team dabei zu helfen, die Notwendigkeit klarer und prägnanter  Product -Backlog -\\nEinträge zu verstehen;  \\n● bei der Etablierung einer empirischen Produktplanung für ein komplexe s Umfeld  zu helfen; und  \\n● die Zusammenarbeit mit Stakeholder:innen nach Wunsch oder Bedarf zu fördern  (facilitate) . \\n Der:die Scrum Master:in dient der Organisation auf unterschiedliche Weise, unter anderem dadurch,  \\n● die Organisation bei der Einführung von Scrum zu führen, zu schulen u nd zu coachen;  \\n● Einführungen von Scrum in der Organisation zu planen und zu empfehlen;  \\n● Mitarbeitende und Stakeholder:innen beim Verständnis und bei der Umsetzung eines \\nempirischen Ansatzes für komplexe Arbeit zu unterstützen; und  \\n● Barrieren zwischen Stakeholder:innen und Scrum Teams zu beseitigen.8 Scrum Events  \\nDer Sprint ist ein Container für alle anderen Events. Jedes Event in Scrum ist eine formelle Gelegenheit, \\nScrum -Artefakte zu überprüfen und anzupassen. Diese Events sind speziell darauf ausgele gt, die \\nerforderliche Transparenz zu ermöglichen. Wenn ein Event nicht wie vorgeschrieben durchgeführt wird, \\nverpasst man die Gelegenheit, zu überprüfen und anzupassen. Events werden in Scrum verwendet, um \\nRegelmäßigkeit zu schaffen und die Notwendigkeit v on Meetings, die in Scrum nicht definiert sind, zu \\nminimieren. Optimalerweise werden alle Events zur selben Zeit und am selben Ort abgehalten, um die \\nKomplexität zu reduzieren.  \\nDer Sprint  \\nSprints sind der Herzschlag von Scrum, wo Ideen in Wert umge wandelt werden.  \\n  \\nEs sind Events mit fester Länge von einem Monat oder weniger, um Konsistenz zu schaffen. Ein neuer Sprint beginnt unmittelbar nach dem Abschluss des vorherigen Sprints.  \\n  \\nAlle Arbeiten, die notwendig sind, um das Produkt -Ziel zu erreichen, einschließlich Sprint Planning, Daily \\nScrums, Sprint Review und Sprint Retrospective, finden innerhalb der Sprints statt.   \\n \\nWährend des Sprints  \\n  \\n● werden keine Änderungen vorgenommen, die das Sprint -Ziel gefährden würden;  \\n● nimmt die Qualität nicht  ab; \\n● wird das Product Backlog nach Bedarf verfeinert; und  \\n● kann der Scope (Inhalt und Umfang) geklärt und mit dem:der Product Owner:in neu vereinbart \\nwerden, sobald mehr Erkenntnisse vorliegen.  \\n Sprints ermöglichen Vorhersagbarkeit, indem sie mindestens jed en Kalendermonat eine Überprüfung \\nund Anpassung der Fortschritte in Richtung eines Produkt -Ziels gewährleisten. Wenn der Horizont eines \\nSprints zu lang ist, kann das Sprint -Ziel hinfällig  werden, die Komplexität kann steigen und das Risiko \\nkann zunehmen. Kürzere Sprints können eingesetzt werden, um mehr Lernzyklen zu generieren und das \\nRisiko von Kosten und Aufwand auf einen kleineren Zeitrahmen zu begrenzen. Jeder Sprint kann als ein \\nkurzes Projekt betrachtet werden.  \\n Es gibt verschiedene Vorgehensweisen, um den Fortschritt vorherzusagen, wie Burn -Down -Charts, Burn -\\nUp-Charts  oder Cumulative -Flow -Diagramme. Diese haben sich zwar als nützlich erwiesen, ersetzen \\njedoch nicht die Bedeutung de r Empirie. In komplexen Umgebungen ist unbekannt, was passieren wird. \\nNur was bereits geschehen ist, kann für eine vorausschauende Entscheidungsfindung genutzt werden.   \\nEin Sprint könnte abgebrochen werden, wenn das Sprint -Ziel obsolet wird. Nur der:die P roduct Owner:in \\nhat die Befugnis, den Sprint abzubrechen.9 Sprint Planning  \\nDas Sprint Planning initiiert den Sprint, indem es die für den Sprint auszuführenden Arbeiten darlegt. \\nDieser resultierende Plan wird durch die gemeinschaftliche  Arbeit des gesamten Scrum Teams erstellt.  \\n  \\nDer:die Product Owner:in stellt sicher, dass die Teilnehmenden vorbereitet sind, die wichtigsten \\nProduct -Backlog -Einträge zu besprechen , und wie sie dem Produkt -Ziel zuzuordnen sind. Das Scrum \\nTeam kann zu Beratungszwecken auch ande re Personen zur Teilnahme am Sprint Planning einladen . \\n  \\nDas Sprint Planning behandelt die folgenden Themen:  \\n \\nThema Eins: Warum ist dieser Sprint wertvoll?   \\nDer:die Product Owner:in schlägt vor, wie das Produkt im aktuellen Sprint seinen Wert und Nutzen steigern könnte. Das gesamte Scrum Team arbeitet dann zusammen, um ein Sprint -Ziel zu definieren, \\ndas verdeutlicht, warum der Sprint für die Stakeholder:innen wertvoll ist. Das Sprint -Ziel muss vor dem \\nEnde des Sprint Plannings finalisiert  sein.  \\n \\nThema Zwei : Was kann in diesem Sprint abgeschlossen (Done) w erden?  \\nIm Gespräch mit dem:der Product Owner:in wählen die Developer:innen Einträge aus dem Product \\nBacklog aus, die in den aktuellen Sprint aufgenommen werden sollen. Das Scrum Team kann diese \\nEinträge während dieses Prozesses verfeinern, was Verständnis und Ver trauen  erhöht.  \\n \\nDie Auswahl, wie viel innerhalb eines Sprints abgeschlossen werden kann, kann eine Herausforderung \\ndarstellen. Je mehr die Developer:innen jedoch über ihre bisherige Leistung, ihre zukünftige Kapazität \\nund ihre Definition of Done wissen, de sto sicherer  werden sie in ihren Sprint -Vorhersagen sein.  \\n \\nThema Drei : Wie wird die ausgewählte Arbeit erledigt?  \\nFür jeden ausgewählten Product -Backlog -Eintrag planen die Developer:innen die notwendige Arbeit, um \\nein Increment zu erstellen, das der Defini tion of Done entspricht. Dies geschieht oft durch Zerlegung von \\nProduct -Backlog -Einträgen in kleinere Arbeitseinheiten von einem Tag oder weniger. Wie dies geschieht, \\nliegt im alleinigen Ermessen der Developer:innen. Niemand sonst sagt ihnen, wie sie Produ ct-Backlog -\\nEinträge in Increments von Wert umwandeln sollen.  \\n \\nDas Sprint -Ziel, die für den Sprint ausgewählten Product -Backlog -Einträge und der Plan für deren  \\nLieferung werden zusammenfass end als Sprint Backlog bezeichnet.  \\n  \\nDas Sprint Planning ist zeitlic h beschränkt auf maximal acht Stunden für einen einmonatigen Sprint. Bei \\nkürzeren Sprints ist das Event in der Regel kürzer.10 Daily Scrum  \\nDer Zweck des Daily Scrums besteht darin, den Fortschritt in Richtung des Sprint -Ziels zu überprüfen und \\ndas Sprint Backlog bei Bedarf anzupassen, um die bevorstehende geplante Arbeit zu justieren.  \\n  \\nDas Daily Scrum ist ein 15 -minütiges Event für die Developer:innen des Scrum Teams. Um die \\nKomplexität zu reduzieren, wird es an jedem Arbeitstag des Sprints zur gle ichen Zeit und am gleichen \\nOrt abgehalten. Falls  der:die Product Owner:in oder der:die Scrum Master:in aktiv an Einträgen des \\nSprint Backlog s arbeite t, nimmt  er:sie als Developer:in teil.  \\n \\nDie Developer:innen können Struktur und Technik en beliebig wählen, solange ihr Daily Scrum sich auf \\nden Fortschritt in Richtung des Sprint -Ziels fokussiert und einen umsetzbaren Plan für den nächsten \\nArbeitstag erstellt. Das schafft Fokus und fördert Selbstmanagement.  \\n \\nDaily Scrums verbessern die Kommunikation, identifizi eren Hindernisse, fördern die  schnelle \\nEntscheidungsfindung und eliminieren konsequent die Notwendigkeit  für andere  Meetings.  \\n  \\nDas Daily Scrum ist nicht die einzige Gelegenheit, bei der die Developer:innen ihren Plan anpassen \\ndürfen. Sie treffen sich oft mals während des  Tages für detailliertere Diskussionen zu r Anpassung oder \\nNeuplanung der restlichen Arbeit des Sprints.  \\n \\nSprint Review  \\nZweck des Sprint Reviews ist es, das Ergebnis des Sprints zu überprüfen und künftige Anpassungen \\nfestzulegen. Das Scrum T eam stellt die Ergebnisse seiner Arbeit den wichtigsten Stakeholder:innen vor, \\nund die Fortschritte in Richtung des Produkt -Ziels werden diskutiert.  \\n  \\nWährend des Events überprüfen das Scrum Team und die Stakeholder:innen, was im Sprint erreicht \\nwurde und was sich in ihrem Umfeld verändert hat. Auf der Grundlage dieser Informationen arbeiten die Teilnehmenden gemeinsam daran, was als N ächstes zu tun ist.  Auch kann das Product Backlog \\nangepasst werden, um neue Möglichkeiten wahrzunehmen . Das Sprint Review ist ein Arbeits termin , und \\ndas Scrum Team sollte vermeiden, es  auf eine Präsentation zu beschränken.  \\n \\nDas Sprint Review ist das vorletzte Event des Sprints und ist für einen einmonatigen Sprint auf maximal \\nvier Stunden zeitlich beschränkt. Bei kürzeren Sprints ist das Event in der Regel kürzer.  \\nSprint Retrospective  \\nDer Zweck der Sprint Retrospective ist es, Wege zur Steigerung von Qualität und Effekti vität zu planen.11 Das Scrum Team überprüft, wie der letzte Sprint in Bezug auf Individuen, Interaktionen, Prozesse, \\nWerkzeuge und seine  Definition of Done verlief. Die überprüften Elemente variieren oft je nach \\nArbeitsdomäne. Annahmen , die das Team in die Irre geführt haben, werden identifiziert und ihre \\nUrsprünge erforscht. Das Scrum Team bespricht, was während des Sprints gut gelaufen ist, auf welche Probleme es gestoßen ist und wie diese Probleme gelöst wurden (oder auch nicht).  \\n \\nDas Scrum Team identifiz iert die hilfreichsten Änderungen, um seine Effektivität zu verbessern. Die \\nwirkungsvollsten Verbesserungen werden so schnell wie möglich in Angriff genommen. Sie können sogar \\nin das Sprint Backlog für den nächsten Sprint aufgenommen werden.  \\n  \\nDie Sprint R etrospective schließt den Sprint ab. Sie ist für einen einmonatigen Sprint auf maximal drei \\nStunden beschränkt. Bei kürzeren Sprints ist das Event in der Regel kürzer.  \\nScrum -Artefakte \\nDie Artefakte von Scrum repräsentieren Arbeit oder Wert.  Sie sind dafür  ausgelegt, die Transparenz von  \\nSchlüsselinformationen zu maximieren. So haben  alle, die sie überprüfen, die gleiche Grundlage für \\nAnpassungen.  \\n \\nJedes Artefakt beinhaltet ein Commitmen t, um sicherzustellen, dass Informationen bereitgestellt \\nwerden, welche Transparenz und Fokus verbessern, um den Fortschritt messbar zu machen:  \\n \\n● Für das Product Backlog ist es das Produkt -Ziel.  \\n● Für das Sprint Backlog ist es das Sprint -Ziel. \\n● Für das Increme nt ist es die Definition of Done.  \\n \\nDiese Commitments dienen dazu, Empirie und die Scrum -Werte für das Scrum Team und seine \\nStakeholder:innen zu verstärken . \\nProduct Backlog  \\nDas Product Backlog ist eine emergente, geordnete Liste der Dinge, die zur Produktverbesserung benötigt werden. Es ist die einzige Quelle von Arbeit , die durch das Scrum Team erledigt wird . \\n \\nProduct -Backlog -Einträge, die durch das Scrum Team innerhalb eines Sprints abgeschlossen (Done) \\nwerden können, gelten  als bereit  für die Auswahl i n einem  Sprint -Planning -Event. Diesen  \\nTransparenz grad  erlangen sie in der Regel durch Refinement -Aktivitäten. Das Refinement des Product \\nBacklogs ist der Vorgang, durch den  Product -Backlog -Einträge in kleinere, präzisere Elemente zerlegt \\nund weiter definiert werden. Dies ist eine kontinuierliche Aktivität, wodurch weitere Details wie \\nBeschreibung, Reihenfolge und Größe ergänzt  werden. Die Attribute variieren oft j e nach Arbeits umfeld.12 Die Developer:innen, die die Arbeit erledigen werden, sind für die Größenbestimmung \\numsetzungsverantwortlich. Der:die Product Owner:in kann die Developer:innen beeinflussen, indem \\ner:sie dabei unterstützt, die Product -Backlog -Einträge zu verstehen und Kompromisse einzugehen.  \\nCommitment: Produ kt-Ziel \\nDas Produkt -Ziel beschreibt einen zukünftigen Zustand des Produkts, welches dem Scrum Team als \\nPlanungsziel dienen kann. Das Produkt -Ziel befindet sich im Product Backlog. Der Rest des Product \\nBacklogs entsteht, um zu definieren, „was“ das Produkt -Ziel erfüllt . \\n \\nEin Produkt ist ein Instrument, um Wert zu liefern. Es hat klare Grenzen, bekannte \\nStakeholder:innen, eindeutig definierte Benutzer:innen oder Kund:innen. Ein Produkt kann eine \\nDienstleistung, ein physisches Produkt oder etwas Abstrakteres sein.  \\n \\n \\nDas P rodukt -Ziel ist das langfristige Ziel für das Scrum Team. Das Scrum Team  muss eine Zielvorgabe \\nerfüllen (oder aufgeben), bevor es  die nächste angeht . \\nSprint Backlog  \\nDas Sprint Backlog besteht aus dem Sprint -Ziel ( Wofür ), den für den Sprint ausgewählten Product -\\nBacklog -Einträgen ( Was) sowie einem umsetzbaren Plan für die Lieferung des Increments ( Wie). \\n \\nDas Sprint Backlog ist ein Plan von und für die Developer:innen. Es ist ein deutlich sichtbares  Echtzeitbild \\nder Arbeit , welche die Developer :innen während des Sprints zur Erreichung des Sprint -Ziels ausführen \\nwollen. Folglich wird das Sprint Backlog während des gesamten Sprints immer dann  aktualisiert , wenn \\nmehr gelernt  wurde . Es sollte genügend Details beinhalten, damit sie ihren Fortschritt im Daily Scrum \\nüberprüfen können.  \\nCommitment: Sprint -Ziel \\nDas Sprint -Ziel ist die einzige Zielsetzung für den Sprint. Obwohl das Sprint -Ziel ein Commitment der \\nDeveloper:innen ist, bietet es Flexibilität in Bezug auf die genaue Arbeit, die erforderlich ist , um es zu \\nerreichen. Das Sprint -Ziel schafft auch Kohärenz und Fokus und ermutigt somit das Scrum Team , \\nzusammen statt in separaten  Initiativen zu arbeiten.  \\n Das Sprint -Ziel wird während des Sprint -Planning -Events erstellt und dann zu m Sprint Backlog \\nhinzugefügt. Während die Developer:innen  innerhalb des Sprints arbeiten, behalten  sie das Sprint -Ziel \\nim Gedächtnis . Wenn sich herausstellt, dass die Arbeit von ihren  Erwartungen abweicht, arbeiten sie mit \\ndem:der Product Owner:in zusammen, um den Umfang des Sprint Backlogs innerhalb des Sprints zu  \\nverhandeln, ohne das Sprint -Ziel zu beeinflussen.13 Increment  \\nEin Increment ist ein konkreter Schritt in Richtung des Produkt -Ziels. Jedes Increment ist additiv zu allen  \\nvorherigen Increment s und gründlich geprüft, um sicherzustellen, dass sie alle zusammen funktionieren. \\nUm einen Mehrwert zu erzielen, muss das Incre ment verwendbar sein.  \\n \\nInnerhalb eines Sprints kann mehr als ein Increment erstellt werden. Deren Summe wird im Sprint \\nReview vorgestellt, womit Empirie unterstützt wird. Ein Increment könnte jedoch auch schon vor Ende \\ndes Sprints an die Stakeholder:innen geliefert werden. Das Sprint Review sollte niemals als Barriere zur \\nLieferung von Wert angesehen werden.  \\n \\nArbeit kann nicht als Teil eines Increments betrachtet werden, solange sie nicht der Definition of Done \\nentspricht.  \\nCommitment: Definition of Done  \\nDie Definition of Done ist eine formale Beschreibung des Zustands des Increments, wenn es die für das \\nProdukt erforderlichen Qualitäts maßnahmen  erfüllt.  \\n  \\nIn dem Moment, in dem ein Product -Backlog -Eintrag die Definition of Done erfüllt, wird ein Increment \\ngeboren.  \\n Die Definition of Done schafft Transparenz, indem sie allen ein gemeinsames Verständnis darüber \\nvermittelt, welche Arbeiten als Teil des Increments abgeschlossen wurden. Wenn ein Product -Backlog -\\nEintrag nicht der Definition of Done entspricht, kann es weder released  noch beim Sprint Review \\npräsentiert werden. Stattdessen wandert es zur zukünftigen Berücksichtigung in das Product Backlog \\nzurück.  \\n \\nWenn die Definition of Done für ein Increment Teil der Standards der Organisation ist, müssen alle \\nScrum Teams diese als Mindestmaß  befolgen. Wenn sie kein Organisationsstandard ist, muss das Scrum \\nTeam eine für das Produkt geeignete Definition of Done ers tellen.  \\n \\nDie Developer:innen müssen sich an die Definition of Done halten. Wenn mehrere Scrum Teams an \\neinem Produkt zusammenarbeiten, müssen sie eine gemeinsame Definition of Done definieren und sich alle daran halten.14 Schlussbemerkung  \\nScrum ist kostenl os und wird in diesem Guide  angeboten. Das Scrum -Rahmenwerk, wie es hier \\nbeschrieben wird, ist unveränderlich. Es ist zwar möglich, nur Teile von Scrum zu implementieren, aber \\ndas Ergebnis ist nicht Scrum. Scrum existiert nur in seiner Gesamtheit und funkt ioniert gut als Container \\nfür andere Techniken, Method iken und Praktiken.  \\nDanksagungen  \\nPersonen  \\nVon den tausenden Personen, die zu Scrum beigetragen haben, sollten wir diejenigen hervorheben, die \\nzu Beginn von besonderer Bedeutung  waren: Jeff Sutherland arbeitete mit Jeff McKenna und John \\nScumniotales, und Ken Schwaber arbeitete mit Mike Smith sowie  Chris Martin  - und sie alle arbeiteten \\nzusammen. Viele weitere haben in den folgenden Jahren einen Beitrag geleistet. Ohne deren Hilfe wäre Scrum nicht so ausgefeilt, wie es heute ist.  \\nScrum -Guide -Histor ie \\nKen Schwaber und Jeff Sutherland haben Scrum gemei nsam zum ersten Mal auf der OOPSLA Konferenz \\n1995 präsentiert. Diese Präsentation dokumentierte im Kern die Erkenntnisse, die Ken und Jeff in den \\nvorherigen  Jahren bei der Anwendung von Scrum gewonnen hatten , und stellte die erste formale \\nVeröffentlichung der Definition von Scrum dar.  \\n \\nDer Scrum Guide dokumentiert Scrum, wie es von Jeff Sutherland und Ken Schwaber über 30 Jahre lang \\nweiterentwickelt wurde, gewachsen ist und aufrechterhalten wurde. Andere Quellen liefern Muster, \\nProzesse und Erkenntnisse, di e das Scrum -Rahmenwerk ergänzen. Diese können zur Steigerung der \\nProduktivität, des Werts, der Kreativität und der Zufriedenheit mit den Ergebnissen führen.  \\n \\nDie vollständige Geschichte von Scrum wird an anderer Stelle beschrieben. Um die ersten Orte zu würdigen, an denen es erprobt wurde und sich bewährt hat, erkennen wir Individual Inc., Newspage, \\nFidelity Investments und IDX (jetzt GE Medical) als solche an.  \\n \\nÄnderungen des Scrum Guides von 2020 im Vergleich zu 2017  \\nNoch weniger vorschreibend  \\nIm Laufe d er Jahre wurde der Scrum Guide etwas  vorschreibender. Die Version von 2020 zielte darauf \\nab, Scrum wieder zu einem minimal ausreichenden Rahmenwerk zu machen, indem die vorschreibende \\nSprache entfernt oder abgeschwächt  wurde. Zum Beispiel wurden die Daily -Scrum -Fragen entfernt, die \\nSprache zur Beschreibung der Attribute von  Product -Backlog -Einträgen und Retro -Items  im Sprint \\nBacklog abgeschwächt , der Abschnitt zum Sprint -Abbruch gekürzt und mehr.15 Ein Team, fokussiert auf ein Produkt  \\nZiel war es, das Konzept eines separaten Teams innerhalb eines Teams zu beseitigen, das zu ein em \\n„Stellvertre nden -“ oder „wir und sie\" -Verhalten zwischen dem :der PO und dem Dev  Team geführt hat. \\nEs gibt jetzt nur noch ein Scrum Team, das sich auf dasselbe Ziel fokussiert  und drei verschiedene \\nErgebnisverantwortlichkeiten hat: PO, SM und Developer:i nnen.  \\nEinführung des Produkt -Ziels  \\nDer Scrum Guide  von 2020 führt das Konzept eines Produkt -Ziels ein, um das Scrum  Team auf ein \\ngrößeres, wertvolles Ziel auszurichten. Jeder Sprint sollte das Produkt näher an das übergeordnete \\nProdukt -Ziel heran bringen.  \\nEine Heimat für das Sprint -Ziel, die Definition of Done und das Produkt -Ziel \\nFrühere Scrum Guides beschrieben das Sprint -Ziel und die Definition of Done, ohne ihnen wirklich eine \\nIdentität zu geben. Sie waren nicht wirklich  Artefakte , aber waren  diesen  in gewisser Weise zugeordnet . \\nMit der Erweiterung um das Produkt -Ziel bietet die Version von 2020 mehr Klarheit darüber. Jedes der \\ndrei Artefakte enthält nun „ Commitments \" ihnen gegenüber. Für das  Product Backlog ist dies  das \\nProdukt -Ziel, das Sprint Backlog h at das Sprint -Ziel,  und das Increment hat die Definition of Done  (jetzt \\nohne Anführungszeichen). Sie existieren, um Transparenz und Fokus hinsichtlich des Fortschritts jedes \\nArtefakts zu fördern.  \\nSelbstmanagement statt Selbstorganisation  \\nFrühere Scrum Guides bezeichneten Development Teams als insofern selbstorganisierend, als dass sie \\nwählen  konnten , wer die Arbeit erledigt und wie gearbeitet wird. Mit einem stärkeren Fokus auf das \\nScrum Team betont die Version von 2020 ein selbstmanagende s Scrum Team . Dieses  wählt, wer  die \\nArbeit erledigt , wie und woran gearbeitet wird.  \\nDrei Sprint -Planning -Themen  \\nZusätzlich zu den Sprint -Planning -Themen „Was\" und „ Wie\" legt der Scrum Guide von 2020 den \\nSchwerpunkt auf ein drittes Thema: „ Wofür\" . Dieses be zieht  sich auf das Sprint -Ziel.  \\nAllgemeine Vereinfachung der Sprache für ein breiteres Publikum  \\nDer Scrum Guide von 2020 legt einen Schwerpunkt auf die Eliminierung redundanter und komplexer \\nAussagen sowie die Beseitigung aller verbleibenden Rückschlüsse a uf IT -Arbeit (z.B. Test, System, \\nDesign, Requirements , etc.) gelegt. Der Scrum Guide umfasst jetzt weniger als 1 3 Seiten  [Anm. d. \\nÜbersetzer :innen : Im Deutschen sind es bis zur Danksagung 14 geworden. ].16 Übersetzung  \\nDieser Guide wurde von der englischen Originalversion, bereitgestellt von Ken Schwaber und Jeff \\nSutherland, übersetzt. Hierzu beigetragen haben:  \\n 2020: Silke von der Bruck, Sabine Canditt, Jan Gretschuskin, Eva Gysling, Martin Hoppacher, Björn \\nJensen, Ralph Jocham, Dominik Maximini,  Wolf Dieter Moggert, Peter Schmidt, Boris Steiner  \\n \\n2017: Sabine Canditt, Jan Gretschuskin, Eva Gysling, Martin Hoppacher, Ralph Jocham, Dominik \\nMaximini, Stefan Mieth, Wolf Dieter Moggert, Pascal Naujoks, Urs Reupke, Anna Rudat, Andreas Schliep, Harald Schlindwein, Peter Schmidt, Boris Steiner  \\n 2016: Jan Gretschuskin, Dominik Maximini, Pascal Naujoks, Boris Steiner, Jürgen Halstenberg, Ralph Jocham, Wolf Dieter Moggert, Patrick Koglin, Harald Schlindwein  \\n 2013: Jan Gretschuskin, Dominik Maximini, Pascal N aujoks, Sabrina Roos, Andreas Schliep, Wolfgang \\nWiedenroth  \\n 2011: Dominik Maximini, Andreas Schliep, Ulf Schneider, Wolfgang Wiedenroth  \\n \\nKontaktinformationen \\nName der Übersetzungsgruppe :   GermanScrumTranslators  \\nBewerbungen werden angenommen  unter:   https://www.linkedin.com/groups/4071080/   \\nPrimärer Ansprechpartner / Product  Owner :  Dominik Maximini  \\nKontaktadresse:     translation@valuerise -consulting.de   \\nÄnderungshistorie der Übersetzung  \\nVersion 1.0:  Komplette Neuübersetzung des Scrum Guides, basierend auf der Version von \\n2016.  \\nVersion 1.1:  Klarstellung im Abschnitt „Das Scrum Team“: Interdisziplinäre Teams sind im \\nIdealfall nicht von Personen außerhalb des Teams abhängig.  \\nKlarstellung im Abschnitt: „Anwendungen von Scrum“: Frequenz von \\nAuslieferungen regelmäßig und mehrf ach täglich.  \\nVersion 1.2:  Klarstellung im Abschnitt: „Sprint Review“: Der Scrum Master agiert als Servant \\nLeader und nicht nur als Organisator des Events.  \\nVersion 2.0:  Überarbeitung der Begrifflichkeiten und Ergänzung des verwendeten Glossars. \\n„Sinn mach en“ wurde in „Sinn ergeben“ geändert.  \\nVersion 3. 2: Komplette Neuübersetzung anlässlich der Veröffentlichung des Scrum Guide 2020.  \\nVersion 3.3:  \\nVersion 3. 5 Einarbeitung des ersten Feedbacks nach der Neuübersetzung.  \\n„Cadence“ wird mit „Rhythmus“, „true leaders“ mit „echte \\nFührungspersönlichkeiten“ und „concise“ mit „prägnant“ übersetzt.17   \\n   \\n  \\nÜbersetzungs -Glossar  \\nVersion 3. 5, Stand 15. 06.2022  \\n \\nÜbersetzungs -Grundregeln, an die wir uns ge halten  haben : \\n• Feststehende Ausdrücke von „Core Scrum“ (Accountabilities, Artefakte, Events) behalten wir \\nEnglisch bei, alle anderen werden übersetzt (Beispiel: Sprint Retrospective).  \\n• Folgt ein deutsches Wort auf eines oder mehrere englische, so wird gemäß der deutschen \\nRechtschreibregeln „durchgekoppelt“ (Beispiel: Sprint -Backlog -Einträge).  \\n• Wir nutzen  wie im Original inklusive Formulierungen ( „gendern”) . Wir erreichen das Screenreader-\\nfreundlich,  indem wir Artikel und Varianten mit Doppelpunkt verknüpfen. Das gilt auch f ür \\nfeststehende Ausdrücke (Beispiele: ein:e Product Owner:in oder die Developer:innen).  \\n• Wir benutzen überwiegend auch bei englischen Ausdrücken die deutsche Grammatik, z.B. den \\ndeutschen Genitiv (Beispiel: nicht „innerhalb des Sprint“ sondern „innerhalb de s Sprints“) . \\n \\nEnglischer Begriff  Deutscher Begriff  \\naccountable  ergebnisverantwortlich  \\nadaptation  Anpassung  \\nCommitment  Commitment  \\nCourage  Mut \\ncross-functional  interdisziplinär  \\nDaily Scrum  Daily Scrum  \\nDefinition of Done  Definition of Done  \\nthe Developer  \\nthe Developers  der:die Developer:in;  \\ndie Developer:innen   \\nDone  Done  \\nempiricism  Empirie  \\nevent  Event  \\nfeedback  Feedback  \\nFocus  Fokus  \\nforecast  Vorhersage  \\nframework  Rahmenwerk  \\nIncrement  das Increment  \\ninspect & adapt  Überprüfung und Anpassung   \\ninspection  Überprüfung  \\nLean Thinking  Lean Thinking  \\nOpenness  Offenheit  \\nprocess framework  Prozessrahmenwerk  \\nproduct  Produkt  \\nProduct Backlog  das Product Backlog  \\nProduct Backlog item Product -Backlog -Eintrag  \\nProduct Backlog refinement  das Refinement  des Product Backlogs18 Product Goal  Produkt -Ziel \\nthe Product Owner  der:die Product Owner:in  \\nRespect  Respekt  \\nresponsible  umsetzungsverantwortlich  \\nScrum Artifacts  Scrum -Artefakte  \\nScrum  Scrum  \\nScrum Events  Scrum Events  \\nScrum Guide  Scrum Guide  \\nthe Scrum Master  der:die Scrum Master:in  \\nScrum Team  Scrum Team  \\nself-management  Selbstmanagement  \\nSprint Backlog  das Sprint Backlog  \\nSprint Backlog item Sprint -Backlog -Eintrag  \\nSprint Goal  Sprint -Ziel \\nSprint Planning  das Sprint Planning  \\nSprint progress  Sprint -Fortschritt  \\nSprint Retrospective  die Sprint Retrospective  \\nSprint Review  das Sprint Review  \\nStakeholder  Stakeholder:innen  \\ntimebox die Time box \\ntimeboxed  zeitlich beschränkt  \\nvalue  Wert  \\nTransparency  Transparenz'"
      ]
     },
     "execution_count": 56,
     "metadata": {},
     "output_type": "execute_result"
    }
   ],
   "source": [
    "text"
   ]
  },
  {
   "cell_type": "markdown",
   "metadata": {},
   "source": [
    "LLM"
   ]
  },
  {
   "cell_type": "code",
   "execution_count": 57,
   "metadata": {},
   "outputs": [],
   "source": [
    "import google.generativeai as genai\n",
    "import os\n",
    "api_key = os.getenv(\"GOOGLE_API_KEY\")\n",
    "genai.configure(api_key=api_key)"
   ]
  },
  {
   "cell_type": "code",
   "execution_count": 58,
   "metadata": {},
   "outputs": [
    {
     "name": "stdout",
     "output_type": "stream",
     "text": [
      "models/chat-bison-001\n",
      "models/text-bison-001\n",
      "models/embedding-gecko-001\n",
      "models/gemini-1.0-pro-latest\n",
      "models/gemini-1.0-pro\n",
      "models/gemini-pro\n",
      "models/gemini-1.0-pro-001\n",
      "models/gemini-1.0-pro-vision-latest\n",
      "models/gemini-pro-vision\n",
      "models/gemini-1.5-pro-latest\n",
      "models/gemini-1.5-pro-001\n",
      "models/gemini-1.5-pro\n",
      "models/gemini-1.5-pro-exp-0801\n",
      "models/gemini-1.5-pro-exp-0827\n",
      "models/gemini-1.5-flash-latest\n",
      "models/gemini-1.5-flash-001\n",
      "models/gemini-1.5-flash-001-tuning\n",
      "models/gemini-1.5-flash\n",
      "models/gemini-1.5-flash-exp-0827\n",
      "models/gemini-1.5-flash-8b-exp-0827\n",
      "models/embedding-001\n",
      "models/text-embedding-004\n",
      "models/aqa\n"
     ]
    }
   ],
   "source": [
    "for m in genai.list_models():\n",
    "    print(m.name)"
   ]
  },
  {
   "cell_type": "code",
   "execution_count": 59,
   "metadata": {},
   "outputs": [],
   "source": [
    "#create the model\n",
    "generation_config = {\n",
    "    \"temperature\" : 0.3,\n",
    "    \"top_k\" : 0.95,\n",
    "    \"top_k\" : 64,\n",
    "    \"max_output_tokens\" : 8192,\n",
    "    \"response_mime_type\" : \"application/json\",\n",
    "}"
   ]
  },
  {
   "cell_type": "code",
   "execution_count": 60,
   "metadata": {},
   "outputs": [],
   "source": [
    "class Agent:\n",
    "    def __init__(self,name,role):\n",
    "        self.name=name,\n",
    "        self.role=role,\n",
    "        self.model = genai.GenerativeModel('gemini-1.5-flash',\n",
    "                                           generation_config=generation_config,system_instruction=role)\n",
    "        self.total_tokens = 0\n",
    "        self.input_tokens = 0\n",
    "        self.output_tokens = 0\n",
    "        self.input_price = 0.075\n",
    "        self.output_price = 0.30\n",
    "\n",
    "    def generate_response(self,prompt):\n",
    "        response = self.model.generate_content(prompt)\n",
    "        self.total_tokens = self.total_tokens + response.usage_metadata.total_token_count\n",
    "        self.input_tokens = self.input_tokens + response.usage_metadata.prompt_token_count\n",
    "        self.output_tokens = self.output_tokens + response.usage_metadata.candidates_token_count\n",
    "        return response.text\n",
    "\n",
    "    def cost(self):\n",
    "        cost_input = self.input_tokens / 1000000 * self.input_price\n",
    "        cost_output = self.output_tokens / 1000000 * self.output_price\n",
    "        cost = cost_input + cost_output\n",
    "\n",
    "        def format_cost(amount):\n",
    "            # extract dollars and cents\n",
    "            dollars = int(amount)\n",
    "            cents = (amount - dollars) * 100\n",
    "            return f\"{dollars} dollars {cents:.5f} cents\"\n",
    "    \n",
    "        formatted_cost = format_cost(cost)\n",
    "        formatted_cost_input = format_cost(cost_input)\n",
    "        formatted_cost_output = format_cost(cost_output)\n",
    "\n",
    "        print(f\"Input Tokens: {self.input_tokens} Input Cost: {formatted_cost_input}\")\n",
    "        print(f\"Output Tokens: {self.output_tokens} Output Cost: {formatted_cost_output}\")\n",
    "        print(f\"Total Tokens: {self.total_tokens} Total Cost: {formatted_cost}\")\n",
    "        return\n",
    "    \n",
    "    def reset_costs(self):\n",
    "        self.total_tokens = 0\n",
    "        self.input_tokens = 0\n",
    "        self.output_tokens = 0\n",
    "\n",
    "\n"
   ]
  },
  {
   "cell_type": "code",
   "execution_count": 61,
   "metadata": {},
   "outputs": [],
   "source": [
    "QA_role = \"\"\" \n",
    "You are a knowlegeable AI assistant that generates FAQ-style questions and ansers from a given text. Your goal is to create clear, concise, and relevant questions that align with the specified answer type.\n",
    "\n",
    "### Instructions:\n",
    "1. **Question Generation**: Based on the previded text, create a question that resembles an FAQ. \n",
    "2. **Answer Type Alignment**: Ensure the question is designed so that the answer fits the specified anser type (e.g., Numeric, Text, Reasoning, Math, People, Place, Time etc.). \n",
    "3. **Language Consistency**: Generate the question and anser in the German language.  \n",
    "\n",
    "### Examples:\n",
    "- **Given Text**: \"The capital of France is Paris, which is 3180 km away from Ankara.\"\n",
    "    - **Answer Type**: Numeric\n",
    "        - **Question**: What is the distance between Paris and Ankara?\n",
    "        - **Answer**: 3180 km\n",
    "    - **Answer Type**: Text\n",
    "        - **Question**: What is the capital of France?\n",
    "        - **Answer**: Paris\n",
    "- **Given Text**: \"Hauptstadt von Deutschland is Berlin und Berlin entfernt von München 585 km.\"\n",
    "    - **Answer Type**: Numeric\n",
    "        - **Question**: Wie groß ist die Entfernung zwischen Berlin und München??\n",
    "        - **Answer**: 585 km\n",
    "    - **Answer Type**: Text\n",
    "        - **Question**: Von welchem Land ist Berlin die Hauptstadt?\n",
    "        - **Answer**: Deutschland\n",
    "### Output Format:\n",
    "Your response should be in strict JSON format, as shown below:  \n",
    "  \n",
    "```json\n",
    "{\n",
    "    \"Answer_Type\": \"numeric / text / reasoning / math / people/ place/ time etc.\",\n",
    "    \"Question\": \"Generated qestion based on the provided text\",\n",
    "    \"Answer\" : \"Correct answer to the generated question\"\n",
    "}\n",
    " \n",
    "\"\"\""
   ]
  },
  {
   "cell_type": "code",
   "execution_count": 62,
   "metadata": {},
   "outputs": [],
   "source": [
    "class QA_agent(Agent):\n",
    "    def prepare_QA(self, text, answer_type):\n",
    "        prompt = f\"\"\"\n",
    "        ---------------------------------\n",
    "        Text: {text}\n",
    "        Answer_type: {answer_type}\n",
    "        ---------------------------------\n",
    "        \"\"\"\n",
    "        return self.generate_response(prompt)"
   ]
  },
  {
   "cell_type": "code",
   "execution_count": 63,
   "metadata": {},
   "outputs": [],
   "source": [
    "def generate_QA(qa_agent, text, answer_type):\n",
    "    question_answer = qa_agent.prepare_QA(text, answer_type)\n",
    "    print_formatted_md(f\"{question_answer}\\n\")\n",
    "    return question_answer"
   ]
  },
  {
   "cell_type": "code",
   "execution_count": 64,
   "metadata": {},
   "outputs": [
    {
     "data": {
      "text/plain": [
       "'Ken Schwaber & Jeff Sutherland  \\n \\n \\n \\n \\n \\n \\n \\n \\n \\n \\nDer Scrum Guide \\n \\nDer gültige Leitfaden für Scrum: Die Spielregeln  \\n \\n \\n \\n \\n \\n \\n \\n \\n \\n \\n \\n \\n \\n \\n \\nNovember  20201 Der Sinn des Scrum Guides  \\n \\nWir haben Scrum in den frühen 1990er -Jahren entwickelt. Wir haben die erste Version des Scrum \\nGuides im Jahr 2010 geschrieben, um Menschen auf der ganzen Welt dabei zu helfen, Scrum zu \\nverstehen. Wir haben den Guide seitdem durch kleine, funktionale  Aktual isierungen weiterentwickelt. \\nWir stehen g emeinsam dahinter.  \\n \\nDer Scrum Guide enthält die Definition von Scrum. Jedes Element von Scrum dient einem bestimmten \\nZweck, der für den Gesamtwert und die mit Scrum erzielten Ergebnisse wesentlich ist. Den Kern oder  die \\nGrundideen von Scrum zu verändern, Elemente wegzulassen oder den Regeln von Scrum nicht zu folgen, \\nverdeckt Probleme, begrenzt de n Nutzen  und macht Scrum  im Zweifel sogar nutzlos.  \\n  \\nWir verfolgen den zunehmenden Einsatz von Scrum in einer stetig kompl exer werdenden Welt. Wir \\nsehen demütig, wie Scrum in zahlreichen Bereichen komplexer Arbeit über die Softwareentwicklung \\nhinaus - wo Scrum seine Wurzeln hat -  eingesetzt wird. Während sich die Verwendung von Scrum weiter \\nverbreitet, wird diese Arbeit von E ntwickler:innen, Forscher:innen, Analyst:innen, Wissenschaftler:innen \\nund anderen Spezialist:innen getan. Wir verwenden das Wort „ Developer:innen” in Scrum nicht, um \\njemanden auszuschließen, sondern um zu vereinfachen. Wer auch immer vom Einsatz von Scrum \\nprofitiert, soll sich angesprochen fühlen.  \\n \\nBeim Einsatz von Scrum können Muster, Prozesse und Erkenntnisse angewendet und entwickelt werden, \\ndie zum Scrum -Rahmenwerk passen, wie es in diesem Dokument beschrieben ist. Ihre Beschreibung \\ngeht über den Zweck des Scrum Guides hinaus, da sie kontextabhängig sind und sich, je nachdem wie \\nScrum eingesetzt wird, stark unterscheiden. Solche Taktiken für die Anwendung innerhalb des Scrum -\\nRahmenwerks variieren stark und werden an anderer Stelle beschrieben.  \\n \\n  \\nKen Schwaber & Jeff Sutherland , Juli 2020  \\n \\n \\n \\n \\n  \\n© 2020 Ken Schwaber and Jeff Sutherland  \\n \\nThis publication is offered for license under the Attribution Share -Alike license of Creative Commons, \\naccessible at http://creativecommons.org/licenses/by -sa/4.0/lega lcode and also described in summary \\nform at http://creativecommons.org/licenses/by -sa/4.0/. By utilizing this Scrum Guide, you \\nacknowledge and agree that you have read and agree to be bound by the terms of the Attribution \\nShare -Alike license of Creative Co mmons.2  \\nScrum -Definition  ................................ ................................ ................................ ................................ ..... 3 \\nScrum -Theorie  ................................ ................................ ................................ ................................ .........  3 \\nTransparenz  ................................ ................................ ................................ ................................ .........  4 \\nÜberprüfung  ................................ ................................ ................................ ................................ ........  4 \\nAnpassung  ................................ ................................ ................................ ................................ ...........  4 \\nScrum -Werte ................................ ................................ ................................ ................................ ...........  4 \\nScrum Team  ................................ ................................ ................................ ................................ ............  5 \\nDeveloper:innen  ................................ ................................ ................................ ................................ .. 6 \\nProduct Owner:in  ................................ ................................ ................................ ................................  6 \\nScrum Master:in  ................................ ................................ ................................ ................................ .. 7 \\nScrum Events  ................................ ................................ ................................ ................................ ...........  8 \\nDer Sprint  ................................ ................................ ................................ ................................ ............  8 \\nSprint Planning  ................................ ................................ ................................ ................................ .... 9 \\nDaily Scrum  ................................ ................................ ................................ ................................ .......  10 \\nSprint Review  ................................ ................................ ................................ ................................ .... 10 \\nSprint Retrospective  ................................ ................................ ................................ ..........................  10 \\nScrum -Artefakte  ................................ ................................ ................................ ................................ .... 11 \\nProduct Backlog  ................................ ................................ ................................ ................................ . 11 \\nCommitment: Produkt -Ziel ................................ ................................ ................................ ............  12 \\nSprint Backlog  ................................ ................................ ................................ ................................ .... 12 \\nCommitment: Sprint -Ziel................................ ................................ ................................ ................  12 \\nIncrement  ................................ ................................ ................................ ................................ ..........  13 \\nCommitment: Definition of Done  ................................ ................................ ................................ ... 13 \\nSchlussbemerkung ................................ ................................ ................................ ................................ . 14 \\nDanksagungen  ................................ ................................ ................................ ................................ ... 14Danksagungen  ................................ ................................ ................................ ................................ ... 14 \\nPersonen  ................................ ................................ ................................ ................................ .......  14 \\nScrum -Guide -Historie  ................................ ................................ ................................ ....................  14 \\nÄnderungen des Scrum Guides von 2020 im Vergleich zu 2017  ................................ ..........................  14 \\nÜbersetzung  ................................ ................................ ................................ ................................ ...... 16 \\nÄnderungshistorie der Übersetzung  ................................ ................................ ...............................  16 \\nÜbersetzungs -Glossar ................................ ................................ ................................ ....................  173  \\nScrum -Definition  \\nScrum ist ein leichtgewichtiges Rahmenwerk, welches Menschen, Teams und Organisationen hilft, Wert \\ndurch adaptive Lösungen für komplexe Probleme zu generieren.  \\n \\nKurz gesagt fordert  Scrum, dass  ein:e Scrum Master:in ein Umfeld fördert , in dem  \\n  \\n1. ein:e Produ ct Owner:in die Arbeit für ein komplexes Problem in ein Product Backlog ein sortiert ; \\n2. das Scrum Team aus einer Auswahl dieser Arbeit innerhalb eines Sprints ein wertvolles \\nIncrement erzeugt ; \\n3. das Scrum Team und dessen Stakeholder:innen die Ergebnisse überprüfen und für den nächsten \\nSprint anpassen ; \\n4. diese Schritte wiederholt werden.  \\n \\nScrum ist einfach. Probiere es so aus, wie es ist, und finde heraus, ob seine Philosophie, Theorie und \\nStruktur da bei helfen , Ziele zu erreichen und Wert zu schaffen. Das Scrum -Rahmenwerk ist absichtlich \\nunvollständig und definiert nur die Teile, die zur Umsetzung der Scrum -Theorie erforderlich sind. Scrum \\nbaut auf der kollektiven Intelligenz der Personen auf, die es an wenden. Anstatt den Menschen \\ndetaillierte Anweisungen zu geben, leiten die Regeln von Scrum ihre Beziehungen und Interaktionen.  \\n \\nInnerhalb des Rahmenwerks können verschiedene Prozesse, Techniken und Methoden eingesetzt \\nwerden. Scrum umhüllt bestehende Prak tiken oder macht sie überflüssig. Scrum macht die relative \\nWirksamkeit des aktuellen Managements, der Umgebung und der Arbeitstechniken sichtbar, so dass \\nVerbesserungen vorgenommen werden können.  \\nScrum -Theor ie \\nScrum basiert auf Empirie und Lean Thinking. Empirie bedeutet, dass Wissen aus Erfahrung gewonnen \\nwird und Entscheidungen auf der Grundlage von Beobachtungen getroffen werden. Lean Thinking \\nreduziert Verschwendung und fokussiert auf das Wesentliche.  \\n \\nScrum verwendet einen iterativen, inkrem entellen Ansatz zur Optimierung der Vorhersagbarkeit und zur \\nRisikokontrolle. Scrum setzt auf  Personengruppen, die gemeinsam über alle Fähigkeiten und \\nFachkenntnisse verfügen, um die Arbeit zu erledigen und solche Fähigkeiten im Bedarfsfall zu teilen oder \\nzu erwerben.  \\n \\nScrum kombiniert vier formale Events zur Überprüfung und Anpassung innerhalb eines umspannenden \\nEvents, des Sprints. Diese Events funktionieren, weil sie die empirischen Scrum -Säulen Transparenz, \\nÜberprüfung und Anpassung implementieren.4  \\nTransparenz  \\nDer sich entwickelnde Prozess und die entstehende Arbeit müssen sowohl für diejenigen sichtbar sein, \\ndie die Arbeit ausführen, als auch für diejenigen, die die Arbeit empfangen. Bei Scrum basieren wichtige \\nEntscheidungen auf dem wahrgenommenen Zus tand seiner drei formalen Artefakte. Artefakte, die \\nwenig transparent sind, können zu Entscheidungen führen, die den Wert mindern und das Risiko \\nerhöhen.  \\n \\nTransparenz ermöglicht Überprüfung. Eine Überprüfung ohne Transparenz ist irreführend und \\nverschwende risch.  \\nÜberprüfung  \\nDie Scrum -Artefakte und der Fortschritt in Richtung der vereinbarten Ziele müssen häufig und sorgfältig \\nüberprüft werden, um potenziell unerwünschte Abweichungen oder Probleme aufzudecken. Um bei der Überprüfung zu helfen, bietet Scrum e inen Rhythmus  in Form seiner fünf Events.  \\n  \\nÜberprüfung ermöglicht Anpassung. Überprüfung ohne Anpassung wird als unsinnig betrachtet. Scrum Events sind darauf ausgerichtet, Veränderungen zu bewirken . \\nAnpassung  \\nWenn einzelne Aspekte eines Prozesses von akz eptablen Grenzen abweichen oder wenn das \\nresultierende Produkt nicht akzeptabel ist, müssen der angewandte Prozess oder die produzierten \\nErgebnisse angepasst werden. Die Anpassung muss so schnell wie möglich erfolgen, um weitere \\nAbweichungen zu minimieren.  \\n  \\nDie Anpassung wird schwieriger, wenn die beteiligten Personen nicht bevollmächtigt (empowered) sind \\noder sich nicht selbst managen können. Von einem Scrum Team wird erwartet, dass es sich in dem \\nMoment anpasst, in dem es durch Überprüfung etwas Neues lernt.  \\n \\nScrum -Werte  \\nDie erfolgreiche Anwendung von Scrum hängt davon ab, dass die Menschen immer besser in der Lage \\nsind, fünf Werte zu leben:  \\nCommitment, Fokus, Offenheit, Respekt und Mut  \\n Das Scrum Team committet sich, seine Ziele zu erreichen und sich gegenseitig zu unterstützen. Sein \\nprimärer Fokus  liegt auf der Arbeit des Sprints, um den bestmöglichen Fortschritt in Richtung dieser5 Ziele zu bewirken . Das Scrum Team und dessen Stakeholder:innen sind offen in Bezug auf die Arbeit und \\ndie Herausford erungen. Die Mitglieder des Scrum Teams respektieren sich gegenseitig als fähige, \\nunabhängige Personen und werden als solche  auch  von den Menschen, mit denen sie \\nzusammenarbeiten, respektiert. Die Mitglieder des Scrum Teams haben den Mut, das Richtige zu t un: an \\nschwierigen Problemen zu arbeiten.  \\n \\nDiese Werte geben dem Scrum Team die Richtung vor, was seine Arbeit, seine Handlungen und sein Verhalten betrifft. Die Entscheidungen, die getroffen werden, die Schritte, die unternommen werden, \\nund die Art und We ise, wie Scrum angewendet wird, sollten diese Werte stärken und nicht schmälern \\noder untergraben. Die Mitglieder des Scrum Teams lernen und erforschen die Werte, während sie in den \\nEvents und mit den Artefakten von Scrum arbeiten. Wenn diese Werte durch da s Scrum Team und die \\nMenschen, mit denen es  arbeite t, verkörpert werden, werden die empirischen Scrum -Säulen \\nTransparenz, Überprüfung und Anpassung lebendig und bauen Vertrauen auf.  \\nScrum Team \\nDer zentrale Bestandteil von Scrum ist ein kleines Team von Men schen, ein Scrum Team. Das Scrum \\nTeam besteht aus einem:einer Scrum Master:in, einem:einer Product Owner:in und Developer:innen. \\nInnerhalb eines Scrum Teams gibt es keine Teilteams oder Hierarchien. Es handelt sich um  eine \\ngeschlossene Einheit von Fachleuten, die sich auf ein Ziel konzentrieren, das Produkt -Ziel. \\n Scrum Teams sind interdisziplinär, d.h. die Mitglieder verfügen über alle Fähigkeiten, die erforderlich \\nsind, um in jedem Sprint Wert zu schaffen. Sie manage n sich außerdem selbst, d.h. sie entscheiden \\nintern, wer was wann und wie macht.  \\n Das Scrum Team ist klein genug, um flink  zu bleiben und groß genug, um innerhalb eines Sprints \\nbedeutsame Arbeit fertigzustellen, üblicherweise 10 oder weniger Personen. Im A llgemeinen ha ben wir  \\nfestgestellt , dass kleinere Teams besser kommunizieren und produktiver sind. Wenn Scrum Teams zu \\ngroß werden, sollten sie  in Erwägung ziehen, sich in mehrere zusammengehörende Scrum Teams zu \\nreorganisieren, die sich alle auf dasselbe P rodukt konzentrieren. Daher sollten sie sich Produkt -Ziel, \\nProduct Backlog und Product Owner:in teilen.  \\n Das Scrum Team ist umsetzungsverantwortlich (responsible) für alle produktbezogenen Aktivitäten: \\nZusammenarbeit mit den Stakeholder:innen, Verifikatio n, Wartung, Betrieb, Experimente, Forschung \\nund Entwicklung und alles, was sonst noch erforderlich sein könnte. Es ist von der Organisation so \\naufgebaut und befähigt, dass es seine Arbeit selbst steuert. Das Arbeiten in Sprints mit einer \\nnachhaltigen Gesch windigkeit verbessert den Fokus und die Kontinuität des Scrum Teams.  \\n \\nDas gesamte Scrum Team ist ergebnisverantwortlich  (accountable) , in jedem Sprint ein wertvolles, \\nnützliches Increment zu schaffen. Scrum definiert drei spezifische Ergebnisverantwortlic hkeiten \\ninnerhalb des Scrum Teams:  Developer:innen, Product Owner:in und Scrum Master:in6 Developer :innen  \\nDeveloper:innen sind jene Personen im Scrum Team, die sich der Aufgabe verschrieben haben, jede n \\nSprint jeden Aspekt eines nutzbaren Increments zu sch affen.  \\n \\nDie spezifischen Fähigkeiten, die von den Developer:innen benötigt werden, sind oft breit gefächert und \\nvariieren je nach Arbeit skontext . Die Developer:innen sind jedoch immer ergebnisverantwortlich dafür,  \\n● einen Plan für den Sprint zu erstellen, da s Sprint Backlog;  \\n● Qualität durch die Einhaltung einer Definition of Done einzubringen;  \\n● täglich ihren Plan zur Erreichung des  Sprint -Ziels anzupassen; und  \\n● sich wechselseitig als Expert:innen zur Verantwortung zu ziehe n. \\nProduct Owner :in \\nDer:die Product Owner:in ist ergebnisverantwortlich für die Maximierung des Wertes des Produkts, der sich aus der Arbeit des Scrum Teams ergibt. Wie dies geschieht, kann je nach  Organisation, Scrum Team \\nund Individuum  sehr unterschiedlich sein.  \\n  \\nDer:die Product Owner:in ist auch für ein effektives Product -Backlog -Management \\nergebnisverantwortlich, das Folgendes umfasst:  \\n \\n● das Produkt -Ziel zu entwickeln und explizit zu kommunizieren;  \\n● die Product -Backlog -Einträge zu erstellen und klar zu kommuniziere n; \\n● die Reihenfolge der Product -Backlog -Einträge festzulegen; und  \\n● sicherzustellen, dass das Product Backlog transparent, sichtbar und verstanden  ist. \\n \\nDer:die Product Owner:in kann die oben genannten Arbeiten selbst durchführen oder die \\nUmsetzungsverantwort ung an andere delegieren. Unabhängig davon bleibt der:die Product Owner:in \\nergebnisverantwortlich.  \\n  \\nDamit der:die Product Owner:in Erfolg haben kann , muss die gesamte Organisation seine:ihre \\nEntscheidungen respektieren. Diese Entscheidungen sind im Inhalt  und in der Reihenfolge des Product \\nBacklogs sowie durch das überprüfbare Increment beim Sprint Review , sichtbar.  \\n  \\nDer:die Product Owner:in ist eine Person, kein Gremium. Der:die Product Owner:in kann die Bedürfnisse \\nvieler Stakeholder:innen im Product Ba cklog berücksichtigen. Diejenigen, die das Product Backlog \\nändern möchten, können dies tun, indem sie versuchen, den:die Product Owner:in zu überzeugen.7 Scrum Master :in \\nDer:die Scrum Master:in ist ergebnisverantwortlich für die Einführung von Scrum, wie es im Scrum \\nGuide definiert ist. Er:sie tut dies, indem er:sie allen dabei hilft, die Scrum -Theorie und - Praxis zu \\nverstehen, sowohl innerhalb des Scrum Teams als auch in der Organisation.  \\n  \\nDer:die Scrum Master:in ist ergebnisverantwortlich für die Effekt ivität des Scrum Teams. Er:sie tut dies, \\nindem er:sie das Scrum Team in die Lage versetzt, seine Praktiken innerhalb des Scrum -Rahmenwerks zu \\nverbessern.  \\n  \\nScrum Master:innen sind echte Führungs persönlichkeiten , die dem Scrum Team und der \\nGesamtorganisation dienen.  \\n \\nDer:die Scrum Master:in dient dem Scrum Team auf unterschiedliche Weise, unter anderem dadurch,  \\n● die Teammitglieder in Selbstmanagement und interdisziplinärer Zusammenarbeit zu coachen;  \\n● das Scrum Team bei der Fokussierung auf die Schaffung von hochwertigen Increments zu \\nunterstützen, die der Definition of Done entsprechen;  \\n● die Beseitigung von Hindernissen  (impediments)  für den Fortschritt des Scrum Teams zu \\nbewirken; und  \\n● sicherzustellen, dass alle Events von Sc rum stattfinden, positiv und produktiv sind und innerhalb \\nder Time box bleiben.  \\n \\nDer:die Scrum Master:in dient dem:der Product Owner:in auf unterschiedliche Weise, unter anderem \\ndadurch,  \\n● bei der Suche nach Techniken zur effektiven Definition des Produkt -Ziels und zum Product -\\nBacklog -Management zu helfen;  \\n● dem Scrum Team dabei zu helfen, die Notwendigkeit klarer und prägnanter  Product -Backlog -\\nEinträge zu verstehen;  \\n● bei der Etablierung einer empirischen Produktplanung für ein komplexe s Umfeld  zu helfen; und  \\n● die Zusammenarbeit mit Stakeholder:innen nach Wunsch oder Bedarf zu fördern  (facilitate) . \\n Der:die Scrum Master:in dient der Organisation auf unterschiedliche Weise, unter anderem dadurch,  \\n● die Organisation bei der Einführung von Scrum zu führen, zu schulen u nd zu coachen;  \\n● Einführungen von Scrum in der Organisation zu planen und zu empfehlen;  \\n● Mitarbeitende und Stakeholder:innen beim Verständnis und bei der Umsetzung eines \\nempirischen Ansatzes für komplexe Arbeit zu unterstützen; und  \\n● Barrieren zwischen Stakeholder:innen und Scrum Teams zu beseitigen.8 Scrum Events  \\nDer Sprint ist ein Container für alle anderen Events. Jedes Event in Scrum ist eine formelle Gelegenheit, \\nScrum -Artefakte zu überprüfen und anzupassen. Diese Events sind speziell darauf ausgele gt, die \\nerforderliche Transparenz zu ermöglichen. Wenn ein Event nicht wie vorgeschrieben durchgeführt wird, \\nverpasst man die Gelegenheit, zu überprüfen und anzupassen. Events werden in Scrum verwendet, um \\nRegelmäßigkeit zu schaffen und die Notwendigkeit v on Meetings, die in Scrum nicht definiert sind, zu \\nminimieren. Optimalerweise werden alle Events zur selben Zeit und am selben Ort abgehalten, um die \\nKomplexität zu reduzieren.  \\nDer Sprint  \\nSprints sind der Herzschlag von Scrum, wo Ideen in Wert umge wandelt werden.  \\n  \\nEs sind Events mit fester Länge von einem Monat oder weniger, um Konsistenz zu schaffen. Ein neuer Sprint beginnt unmittelbar nach dem Abschluss des vorherigen Sprints.  \\n  \\nAlle Arbeiten, die notwendig sind, um das Produkt -Ziel zu erreichen, einschließlich Sprint Planning, Daily \\nScrums, Sprint Review und Sprint Retrospective, finden innerhalb der Sprints statt.   \\n \\nWährend des Sprints  \\n  \\n● werden keine Änderungen vorgenommen, die das Sprint -Ziel gefährden würden;  \\n● nimmt die Qualität nicht  ab; \\n● wird das Product Backlog nach Bedarf verfeinert; und  \\n● kann der Scope (Inhalt und Umfang) geklärt und mit dem:der Product Owner:in neu vereinbart \\nwerden, sobald mehr Erkenntnisse vorliegen.  \\n Sprints ermöglichen Vorhersagbarkeit, indem sie mindestens jed en Kalendermonat eine Überprüfung \\nund Anpassung der Fortschritte in Richtung eines Produkt -Ziels gewährleisten. Wenn der Horizont eines \\nSprints zu lang ist, kann das Sprint -Ziel hinfällig  werden, die Komplexität kann steigen und das Risiko \\nkann zunehmen. Kürzere Sprints können eingesetzt werden, um mehr Lernzyklen zu generieren und das \\nRisiko von Kosten und Aufwand auf einen kleineren Zeitrahmen zu begrenzen. Jeder Sprint kann als ein \\nkurzes Projekt betrachtet werden.  \\n Es gibt verschiedene Vorgehensweisen, um den Fortschritt vorherzusagen, wie Burn -Down -Charts, Burn -\\nUp-Charts  oder Cumulative -Flow -Diagramme. Diese haben sich zwar als nützlich erwiesen, ersetzen \\njedoch nicht die Bedeutung de r Empirie. In komplexen Umgebungen ist unbekannt, was passieren wird. \\nNur was bereits geschehen ist, kann für eine vorausschauende Entscheidungsfindung genutzt werden.   \\nEin Sprint könnte abgebrochen werden, wenn das Sprint -Ziel obsolet wird. Nur der:die P roduct Owner:in \\nhat die Befugnis, den Sprint abzubrechen.9 Sprint Planning  \\nDas Sprint Planning initiiert den Sprint, indem es die für den Sprint auszuführenden Arbeiten darlegt. \\nDieser resultierende Plan wird durch die gemeinschaftliche  Arbeit des gesamten Scrum Teams erstellt.  \\n  \\nDer:die Product Owner:in stellt sicher, dass die Teilnehmenden vorbereitet sind, die wichtigsten \\nProduct -Backlog -Einträge zu besprechen , und wie sie dem Produkt -Ziel zuzuordnen sind. Das Scrum \\nTeam kann zu Beratungszwecken auch ande re Personen zur Teilnahme am Sprint Planning einladen . \\n  \\nDas Sprint Planning behandelt die folgenden Themen:  \\n \\nThema Eins: Warum ist dieser Sprint wertvoll?   \\nDer:die Product Owner:in schlägt vor, wie das Produkt im aktuellen Sprint seinen Wert und Nutzen steigern könnte. Das gesamte Scrum Team arbeitet dann zusammen, um ein Sprint -Ziel zu definieren, \\ndas verdeutlicht, warum der Sprint für die Stakeholder:innen wertvoll ist. Das Sprint -Ziel muss vor dem \\nEnde des Sprint Plannings finalisiert  sein.  \\n \\nThema Zwei : Was kann in diesem Sprint abgeschlossen (Done) w erden?  \\nIm Gespräch mit dem:der Product Owner:in wählen die Developer:innen Einträge aus dem Product \\nBacklog aus, die in den aktuellen Sprint aufgenommen werden sollen. Das Scrum Team kann diese \\nEinträge während dieses Prozesses verfeinern, was Verständnis und Ver trauen  erhöht.  \\n \\nDie Auswahl, wie viel innerhalb eines Sprints abgeschlossen werden kann, kann eine Herausforderung \\ndarstellen. Je mehr die Developer:innen jedoch über ihre bisherige Leistung, ihre zukünftige Kapazität \\nund ihre Definition of Done wissen, de sto sicherer  werden sie in ihren Sprint -Vorhersagen sein.  \\n \\nThema Drei : Wie wird die ausgewählte Arbeit erledigt?  \\nFür jeden ausgewählten Product -Backlog -Eintrag planen die Developer:innen die notwendige Arbeit, um \\nein Increment zu erstellen, das der Defini tion of Done entspricht. Dies geschieht oft durch Zerlegung von \\nProduct -Backlog -Einträgen in kleinere Arbeitseinheiten von einem Tag oder weniger. Wie dies geschieht, \\nliegt im alleinigen Ermessen der Developer:innen. Niemand sonst sagt ihnen, wie sie Produ ct-Backlog -\\nEinträge in Increments von Wert umwandeln sollen.  \\n \\nDas Sprint -Ziel, die für den Sprint ausgewählten Product -Backlog -Einträge und der Plan für deren  \\nLieferung werden zusammenfass end als Sprint Backlog bezeichnet.  \\n  \\nDas Sprint Planning ist zeitlic h beschränkt auf maximal acht Stunden für einen einmonatigen Sprint. Bei \\nkürzeren Sprints ist das Event in der Regel kürzer.10 Daily Scrum  \\nDer Zweck des Daily Scrums besteht darin, den Fortschritt in Richtung des Sprint -Ziels zu überprüfen und \\ndas Sprint Backlog bei Bedarf anzupassen, um die bevorstehende geplante Arbeit zu justieren.  \\n  \\nDas Daily Scrum ist ein 15 -minütiges Event für die Developer:innen des Scrum Teams. Um die \\nKomplexität zu reduzieren, wird es an jedem Arbeitstag des Sprints zur gle ichen Zeit und am gleichen \\nOrt abgehalten. Falls  der:die Product Owner:in oder der:die Scrum Master:in aktiv an Einträgen des \\nSprint Backlog s arbeite t, nimmt  er:sie als Developer:in teil.  \\n \\nDie Developer:innen können Struktur und Technik en beliebig wählen, solange ihr Daily Scrum sich auf \\nden Fortschritt in Richtung des Sprint -Ziels fokussiert und einen umsetzbaren Plan für den nächsten \\nArbeitstag erstellt. Das schafft Fokus und fördert Selbstmanagement.  \\n \\nDaily Scrums verbessern die Kommunikation, identifizi eren Hindernisse, fördern die  schnelle \\nEntscheidungsfindung und eliminieren konsequent die Notwendigkeit  für andere  Meetings.  \\n  \\nDas Daily Scrum ist nicht die einzige Gelegenheit, bei der die Developer:innen ihren Plan anpassen \\ndürfen. Sie treffen sich oft mals während des  Tages für detailliertere Diskussionen zu r Anpassung oder \\nNeuplanung der restlichen Arbeit des Sprints.  \\n \\nSprint Review  \\nZweck des Sprint Reviews ist es, das Ergebnis des Sprints zu überprüfen und künftige Anpassungen \\nfestzulegen. Das Scrum T eam stellt die Ergebnisse seiner Arbeit den wichtigsten Stakeholder:innen vor, \\nund die Fortschritte in Richtung des Produkt -Ziels werden diskutiert.  \\n  \\nWährend des Events überprüfen das Scrum Team und die Stakeholder:innen, was im Sprint erreicht \\nwurde und was sich in ihrem Umfeld verändert hat. Auf der Grundlage dieser Informationen arbeiten die Teilnehmenden gemeinsam daran, was als N ächstes zu tun ist.  Auch kann das Product Backlog \\nangepasst werden, um neue Möglichkeiten wahrzunehmen . Das Sprint Review ist ein Arbeits termin , und \\ndas Scrum Team sollte vermeiden, es  auf eine Präsentation zu beschränken.  \\n \\nDas Sprint Review ist das vorletzte Event des Sprints und ist für einen einmonatigen Sprint auf maximal \\nvier Stunden zeitlich beschränkt. Bei kürzeren Sprints ist das Event in der Regel kürzer.  \\nSprint Retrospective  \\nDer Zweck der Sprint Retrospective ist es, Wege zur Steigerung von Qualität und Effekti vität zu planen.11 Das Scrum Team überprüft, wie der letzte Sprint in Bezug auf Individuen, Interaktionen, Prozesse, \\nWerkzeuge und seine  Definition of Done verlief. Die überprüften Elemente variieren oft je nach \\nArbeitsdomäne. Annahmen , die das Team in die Irre geführt haben, werden identifiziert und ihre \\nUrsprünge erforscht. Das Scrum Team bespricht, was während des Sprints gut gelaufen ist, auf welche Probleme es gestoßen ist und wie diese Probleme gelöst wurden (oder auch nicht).  \\n \\nDas Scrum Team identifiz iert die hilfreichsten Änderungen, um seine Effektivität zu verbessern. Die \\nwirkungsvollsten Verbesserungen werden so schnell wie möglich in Angriff genommen. Sie können sogar \\nin das Sprint Backlog für den nächsten Sprint aufgenommen werden.  \\n  \\nDie Sprint R etrospective schließt den Sprint ab. Sie ist für einen einmonatigen Sprint auf maximal drei \\nStunden beschränkt. Bei kürzeren Sprints ist das Event in der Regel kürzer.  \\nScrum -Artefakte \\nDie Artefakte von Scrum repräsentieren Arbeit oder Wert.  Sie sind dafür  ausgelegt, die Transparenz von  \\nSchlüsselinformationen zu maximieren. So haben  alle, die sie überprüfen, die gleiche Grundlage für \\nAnpassungen.  \\n \\nJedes Artefakt beinhaltet ein Commitmen t, um sicherzustellen, dass Informationen bereitgestellt \\nwerden, welche Transparenz und Fokus verbessern, um den Fortschritt messbar zu machen:  \\n \\n● Für das Product Backlog ist es das Produkt -Ziel.  \\n● Für das Sprint Backlog ist es das Sprint -Ziel. \\n● Für das Increme nt ist es die Definition of Done.  \\n \\nDiese Commitments dienen dazu, Empirie und die Scrum -Werte für das Scrum Team und seine \\nStakeholder:innen zu verstärken . \\nProduct Backlog  \\nDas Product Backlog ist eine emergente, geordnete Liste der Dinge, die zur Produktverbesserung benötigt werden. Es ist die einzige Quelle von Arbeit , die durch das Scrum Team erledigt wird . \\n \\nProduct -Backlog -Einträge, die durch das Scrum Team innerhalb eines Sprints abgeschlossen (Done) \\nwerden können, gelten  als bereit  für die Auswahl i n einem  Sprint -Planning -Event. Diesen  \\nTransparenz grad  erlangen sie in der Regel durch Refinement -Aktivitäten. Das Refinement des Product \\nBacklogs ist der Vorgang, durch den  Product -Backlog -Einträge in kleinere, präzisere Elemente zerlegt \\nund weiter definiert werden. Dies ist eine kontinuierliche Aktivität, wodurch weitere Details wie \\nBeschreibung, Reihenfolge und Größe ergänzt  werden. Die Attribute variieren oft j e nach Arbeits umfeld.12 Die Developer:innen, die die Arbeit erledigen werden, sind für die Größenbestimmung \\numsetzungsverantwortlich. Der:die Product Owner:in kann die Developer:innen beeinflussen, indem \\ner:sie dabei unterstützt, die Product -Backlog -Einträge zu verstehen und Kompromisse einzugehen.  \\nCommitment: Produ kt-Ziel \\nDas Produkt -Ziel beschreibt einen zukünftigen Zustand des Produkts, welches dem Scrum Team als \\nPlanungsziel dienen kann. Das Produkt -Ziel befindet sich im Product Backlog. Der Rest des Product \\nBacklogs entsteht, um zu definieren, „was“ das Produkt -Ziel erfüllt . \\n \\nEin Produkt ist ein Instrument, um Wert zu liefern. Es hat klare Grenzen, bekannte \\nStakeholder:innen, eindeutig definierte Benutzer:innen oder Kund:innen. Ein Produkt kann eine \\nDienstleistung, ein physisches Produkt oder etwas Abstrakteres sein.  \\n \\n \\nDas P rodukt -Ziel ist das langfristige Ziel für das Scrum Team. Das Scrum Team  muss eine Zielvorgabe \\nerfüllen (oder aufgeben), bevor es  die nächste angeht . \\nSprint Backlog  \\nDas Sprint Backlog besteht aus dem Sprint -Ziel ( Wofür ), den für den Sprint ausgewählten Product -\\nBacklog -Einträgen ( Was) sowie einem umsetzbaren Plan für die Lieferung des Increments ( Wie). \\n \\nDas Sprint Backlog ist ein Plan von und für die Developer:innen. Es ist ein deutlich sichtbares  Echtzeitbild \\nder Arbeit , welche die Developer :innen während des Sprints zur Erreichung des Sprint -Ziels ausführen \\nwollen. Folglich wird das Sprint Backlog während des gesamten Sprints immer dann  aktualisiert , wenn \\nmehr gelernt  wurde . Es sollte genügend Details beinhalten, damit sie ihren Fortschritt im Daily Scrum \\nüberprüfen können.  \\nCommitment: Sprint -Ziel \\nDas Sprint -Ziel ist die einzige Zielsetzung für den Sprint. Obwohl das Sprint -Ziel ein Commitment der \\nDeveloper:innen ist, bietet es Flexibilität in Bezug auf die genaue Arbeit, die erforderlich ist , um es zu \\nerreichen. Das Sprint -Ziel schafft auch Kohärenz und Fokus und ermutigt somit das Scrum Team , \\nzusammen statt in separaten  Initiativen zu arbeiten.  \\n Das Sprint -Ziel wird während des Sprint -Planning -Events erstellt und dann zu m Sprint Backlog \\nhinzugefügt. Während die Developer:innen  innerhalb des Sprints arbeiten, behalten  sie das Sprint -Ziel \\nim Gedächtnis . Wenn sich herausstellt, dass die Arbeit von ihren  Erwartungen abweicht, arbeiten sie mit \\ndem:der Product Owner:in zusammen, um den Umfang des Sprint Backlogs innerhalb des Sprints zu  \\nverhandeln, ohne das Sprint -Ziel zu beeinflussen.13 Increment  \\nEin Increment ist ein konkreter Schritt in Richtung des Produkt -Ziels. Jedes Increment ist additiv zu allen  \\nvorherigen Increment s und gründlich geprüft, um sicherzustellen, dass sie alle zusammen funktionieren. \\nUm einen Mehrwert zu erzielen, muss das Incre ment verwendbar sein.  \\n \\nInnerhalb eines Sprints kann mehr als ein Increment erstellt werden. Deren Summe wird im Sprint \\nReview vorgestellt, womit Empirie unterstützt wird. Ein Increment könnte jedoch auch schon vor Ende \\ndes Sprints an die Stakeholder:innen geliefert werden. Das Sprint Review sollte niemals als Barriere zur \\nLieferung von Wert angesehen werden.  \\n \\nArbeit kann nicht als Teil eines Increments betrachtet werden, solange sie nicht der Definition of Done \\nentspricht.  \\nCommitment: Definition of Done  \\nDie Definition of Done ist eine formale Beschreibung des Zustands des Increments, wenn es die für das \\nProdukt erforderlichen Qualitäts maßnahmen  erfüllt.  \\n  \\nIn dem Moment, in dem ein Product -Backlog -Eintrag die Definition of Done erfüllt, wird ein Increment \\ngeboren.  \\n Die Definition of Done schafft Transparenz, indem sie allen ein gemeinsames Verständnis darüber \\nvermittelt, welche Arbeiten als Teil des Increments abgeschlossen wurden. Wenn ein Product -Backlog -\\nEintrag nicht der Definition of Done entspricht, kann es weder released  noch beim Sprint Review \\npräsentiert werden. Stattdessen wandert es zur zukünftigen Berücksichtigung in das Product Backlog \\nzurück.  \\n \\nWenn die Definition of Done für ein Increment Teil der Standards der Organisation ist, müssen alle \\nScrum Teams diese als Mindestmaß  befolgen. Wenn sie kein Organisationsstandard ist, muss das Scrum \\nTeam eine für das Produkt geeignete Definition of Done ers tellen.  \\n \\nDie Developer:innen müssen sich an die Definition of Done halten. Wenn mehrere Scrum Teams an \\neinem Produkt zusammenarbeiten, müssen sie eine gemeinsame Definition of Done definieren und sich alle daran halten.14 Schlussbemerkung  \\nScrum ist kostenl os und wird in diesem Guide  angeboten. Das Scrum -Rahmenwerk, wie es hier \\nbeschrieben wird, ist unveränderlich. Es ist zwar möglich, nur Teile von Scrum zu implementieren, aber \\ndas Ergebnis ist nicht Scrum. Scrum existiert nur in seiner Gesamtheit und funkt ioniert gut als Container \\nfür andere Techniken, Method iken und Praktiken.  \\nDanksagungen  \\nPersonen  \\nVon den tausenden Personen, die zu Scrum beigetragen haben, sollten wir diejenigen hervorheben, die \\nzu Beginn von besonderer Bedeutung  waren: Jeff Sutherland arbeitete mit Jeff McKenna und John \\nScumniotales, und Ken Schwaber arbeitete mit Mike Smith sowie  Chris Martin  - und sie alle arbeiteten \\nzusammen. Viele weitere haben in den folgenden Jahren einen Beitrag geleistet. Ohne deren Hilfe wäre Scrum nicht so ausgefeilt, wie es heute ist.  \\nScrum -Guide -Histor ie \\nKen Schwaber und Jeff Sutherland haben Scrum gemei nsam zum ersten Mal auf der OOPSLA Konferenz \\n1995 präsentiert. Diese Präsentation dokumentierte im Kern die Erkenntnisse, die Ken und Jeff in den \\nvorherigen  Jahren bei der Anwendung von Scrum gewonnen hatten , und stellte die erste formale \\nVeröffentlichung der Definition von Scrum dar.  \\n \\nDer Scrum Guide dokumentiert Scrum, wie es von Jeff Sutherland und Ken Schwaber über 30 Jahre lang \\nweiterentwickelt wurde, gewachsen ist und aufrechterhalten wurde. Andere Quellen liefern Muster, \\nProzesse und Erkenntnisse, di e das Scrum -Rahmenwerk ergänzen. Diese können zur Steigerung der \\nProduktivität, des Werts, der Kreativität und der Zufriedenheit mit den Ergebnissen führen.  \\n \\nDie vollständige Geschichte von Scrum wird an anderer Stelle beschrieben. Um die ersten Orte zu würdigen, an denen es erprobt wurde und sich bewährt hat, erkennen wir Individual Inc., Newspage, \\nFidelity Investments und IDX (jetzt GE Medical) als solche an.  \\n \\nÄnderungen des Scrum Guides von 2020 im Vergleich zu 2017  \\nNoch weniger vorschreibend  \\nIm Laufe d er Jahre wurde der Scrum Guide etwas  vorschreibender. Die Version von 2020 zielte darauf \\nab, Scrum wieder zu einem minimal ausreichenden Rahmenwerk zu machen, indem die vorschreibende \\nSprache entfernt oder abgeschwächt  wurde. Zum Beispiel wurden die Daily -Scrum -Fragen entfernt, die \\nSprache zur Beschreibung der Attribute von  Product -Backlog -Einträgen und Retro -Items  im Sprint \\nBacklog abgeschwächt , der Abschnitt zum Sprint -Abbruch gekürzt und mehr.15 Ein Team, fokussiert auf ein Produkt  \\nZiel war es, das Konzept eines separaten Teams innerhalb eines Teams zu beseitigen, das zu ein em \\n„Stellvertre nden -“ oder „wir und sie\" -Verhalten zwischen dem :der PO und dem Dev  Team geführt hat. \\nEs gibt jetzt nur noch ein Scrum Team, das sich auf dasselbe Ziel fokussiert  und drei verschiedene \\nErgebnisverantwortlichkeiten hat: PO, SM und Developer:i nnen.  \\nEinführung des Produkt -Ziels  \\nDer Scrum Guide  von 2020 führt das Konzept eines Produkt -Ziels ein, um das Scrum  Team auf ein \\ngrößeres, wertvolles Ziel auszurichten. Jeder Sprint sollte das Produkt näher an das übergeordnete \\nProdukt -Ziel heran bringen.  \\nEine Heimat für das Sprint -Ziel, die Definition of Done und das Produkt -Ziel \\nFrühere Scrum Guides beschrieben das Sprint -Ziel und die Definition of Done, ohne ihnen wirklich eine \\nIdentität zu geben. Sie waren nicht wirklich  Artefakte , aber waren  diesen  in gewisser Weise zugeordnet . \\nMit der Erweiterung um das Produkt -Ziel bietet die Version von 2020 mehr Klarheit darüber. Jedes der \\ndrei Artefakte enthält nun „ Commitments \" ihnen gegenüber. Für das  Product Backlog ist dies  das \\nProdukt -Ziel, das Sprint Backlog h at das Sprint -Ziel,  und das Increment hat die Definition of Done  (jetzt \\nohne Anführungszeichen). Sie existieren, um Transparenz und Fokus hinsichtlich des Fortschritts jedes \\nArtefakts zu fördern.  \\nSelbstmanagement statt Selbstorganisation  \\nFrühere Scrum Guides bezeichneten Development Teams als insofern selbstorganisierend, als dass sie \\nwählen  konnten , wer die Arbeit erledigt und wie gearbeitet wird. Mit einem stärkeren Fokus auf das \\nScrum Team betont die Version von 2020 ein selbstmanagende s Scrum Team . Dieses  wählt, wer  die \\nArbeit erledigt , wie und woran gearbeitet wird.  \\nDrei Sprint -Planning -Themen  \\nZusätzlich zu den Sprint -Planning -Themen „Was\" und „ Wie\" legt der Scrum Guide von 2020 den \\nSchwerpunkt auf ein drittes Thema: „ Wofür\" . Dieses be zieht  sich auf das Sprint -Ziel.  \\nAllgemeine Vereinfachung der Sprache für ein breiteres Publikum  \\nDer Scrum Guide von 2020 legt einen Schwerpunkt auf die Eliminierung redundanter und komplexer \\nAussagen sowie die Beseitigung aller verbleibenden Rückschlüsse a uf IT -Arbeit (z.B. Test, System, \\nDesign, Requirements , etc.) gelegt. Der Scrum Guide umfasst jetzt weniger als 1 3 Seiten  [Anm. d. \\nÜbersetzer :innen : Im Deutschen sind es bis zur Danksagung 14 geworden. ].16 Übersetzung  \\nDieser Guide wurde von der englischen Originalversion, bereitgestellt von Ken Schwaber und Jeff \\nSutherland, übersetzt. Hierzu beigetragen haben:  \\n 2020: Silke von der Bruck, Sabine Canditt, Jan Gretschuskin, Eva Gysling, Martin Hoppacher, Björn \\nJensen, Ralph Jocham, Dominik Maximini,  Wolf Dieter Moggert, Peter Schmidt, Boris Steiner  \\n \\n2017: Sabine Canditt, Jan Gretschuskin, Eva Gysling, Martin Hoppacher, Ralph Jocham, Dominik \\nMaximini, Stefan Mieth, Wolf Dieter Moggert, Pascal Naujoks, Urs Reupke, Anna Rudat, Andreas Schliep, Harald Schlindwein, Peter Schmidt, Boris Steiner  \\n 2016: Jan Gretschuskin, Dominik Maximini, Pascal Naujoks, Boris Steiner, Jürgen Halstenberg, Ralph Jocham, Wolf Dieter Moggert, Patrick Koglin, Harald Schlindwein  \\n 2013: Jan Gretschuskin, Dominik Maximini, Pascal N aujoks, Sabrina Roos, Andreas Schliep, Wolfgang \\nWiedenroth  \\n 2011: Dominik Maximini, Andreas Schliep, Ulf Schneider, Wolfgang Wiedenroth  \\n \\nKontaktinformationen \\nName der Übersetzungsgruppe :   GermanScrumTranslators  \\nBewerbungen werden angenommen  unter:   https://www.linkedin.com/groups/4071080/   \\nPrimärer Ansprechpartner / Product  Owner :  Dominik Maximini  \\nKontaktadresse:     translation@valuerise -consulting.de   \\nÄnderungshistorie der Übersetzung  \\nVersion 1.0:  Komplette Neuübersetzung des Scrum Guides, basierend auf der Version von \\n2016.  \\nVersion 1.1:  Klarstellung im Abschnitt „Das Scrum Team“: Interdisziplinäre Teams sind im \\nIdealfall nicht von Personen außerhalb des Teams abhängig.  \\nKlarstellung im Abschnitt: „Anwendungen von Scrum“: Frequenz von \\nAuslieferungen regelmäßig und mehrf ach täglich.  \\nVersion 1.2:  Klarstellung im Abschnitt: „Sprint Review“: Der Scrum Master agiert als Servant \\nLeader und nicht nur als Organisator des Events.  \\nVersion 2.0:  Überarbeitung der Begrifflichkeiten und Ergänzung des verwendeten Glossars. \\n„Sinn mach en“ wurde in „Sinn ergeben“ geändert.  \\nVersion 3. 2: Komplette Neuübersetzung anlässlich der Veröffentlichung des Scrum Guide 2020.  \\nVersion 3.3:  \\nVersion 3. 5 Einarbeitung des ersten Feedbacks nach der Neuübersetzung.  \\n„Cadence“ wird mit „Rhythmus“, „true leaders“ mit „echte \\nFührungspersönlichkeiten“ und „concise“ mit „prägnant“ übersetzt.17   \\n   \\n  \\nÜbersetzungs -Glossar  \\nVersion 3. 5, Stand 15. 06.2022  \\n \\nÜbersetzungs -Grundregeln, an die wir uns ge halten  haben : \\n• Feststehende Ausdrücke von „Core Scrum“ (Accountabilities, Artefakte, Events) behalten wir \\nEnglisch bei, alle anderen werden übersetzt (Beispiel: Sprint Retrospective).  \\n• Folgt ein deutsches Wort auf eines oder mehrere englische, so wird gemäß der deutschen \\nRechtschreibregeln „durchgekoppelt“ (Beispiel: Sprint -Backlog -Einträge).  \\n• Wir nutzen  wie im Original inklusive Formulierungen ( „gendern”) . Wir erreichen das Screenreader-\\nfreundlich,  indem wir Artikel und Varianten mit Doppelpunkt verknüpfen. Das gilt auch f ür \\nfeststehende Ausdrücke (Beispiele: ein:e Product Owner:in oder die Developer:innen).  \\n• Wir benutzen überwiegend auch bei englischen Ausdrücken die deutsche Grammatik, z.B. den \\ndeutschen Genitiv (Beispiel: nicht „innerhalb des Sprint“ sondern „innerhalb de s Sprints“) . \\n \\nEnglischer Begriff  Deutscher Begriff  \\naccountable  ergebnisverantwortlich  \\nadaptation  Anpassung  \\nCommitment  Commitment  \\nCourage  Mut \\ncross-functional  interdisziplinär  \\nDaily Scrum  Daily Scrum  \\nDefinition of Done  Definition of Done  \\nthe Developer  \\nthe Developers  der:die Developer:in;  \\ndie Developer:innen   \\nDone  Done  \\nempiricism  Empirie  \\nevent  Event  \\nfeedback  Feedback  \\nFocus  Fokus  \\nforecast  Vorhersage  \\nframework  Rahmenwerk  \\nIncrement  das Increment  \\ninspect & adapt  Überprüfung und Anpassung   \\ninspection  Überprüfung  \\nLean Thinking  Lean Thinking  \\nOpenness  Offenheit  \\nprocess framework  Prozessrahmenwerk  \\nproduct  Produkt  \\nProduct Backlog  das Product Backlog  \\nProduct Backlog item Product -Backlog -Eintrag  \\nProduct Backlog refinement  das Refinement  des Product Backlogs18 Product Goal  Produkt -Ziel \\nthe Product Owner  der:die Product Owner:in  \\nRespect  Respekt  \\nresponsible  umsetzungsverantwortlich  \\nScrum Artifacts  Scrum -Artefakte  \\nScrum  Scrum  \\nScrum Events  Scrum Events  \\nScrum Guide  Scrum Guide  \\nthe Scrum Master  der:die Scrum Master:in  \\nScrum Team  Scrum Team  \\nself-management  Selbstmanagement  \\nSprint Backlog  das Sprint Backlog  \\nSprint Backlog item Sprint -Backlog -Eintrag  \\nSprint Goal  Sprint -Ziel \\nSprint Planning  das Sprint Planning  \\nSprint progress  Sprint -Fortschritt  \\nSprint Retrospective  die Sprint Retrospective  \\nSprint Review  das Sprint Review  \\nStakeholder  Stakeholder:innen  \\ntimebox die Time box \\ntimeboxed  zeitlich beschränkt  \\nvalue  Wert  \\nTransparency  Transparenz'"
      ]
     },
     "execution_count": 64,
     "metadata": {},
     "output_type": "execute_result"
    }
   ],
   "source": [
    "text"
   ]
  },
  {
   "cell_type": "code",
   "execution_count": 65,
   "metadata": {},
   "outputs": [
    {
     "data": {
      "text/markdown": [
       "{\"Answer_Type\": \"text\", \"Question\": \"Wer hat den Scrum Guide geschrieben?\",\n",
       "\"Answer\": \"Ken Schwaber und Jeff Sutherland haben den Scrum Guide geschrieben.\"}"
      ],
      "text/plain": [
       "<IPython.core.display.Markdown object>"
      ]
     },
     "metadata": {},
     "output_type": "display_data"
    },
    {
     "data": {
      "text/markdown": [
       "{\"Answer_Type\": \"numeric\", \"Question\": \"Wie viele Seiten umfasst der Scrum Guide\n",
       "2020?\", \"Answer\": \"13\"}"
      ],
      "text/plain": [
       "<IPython.core.display.Markdown object>"
      ]
     },
     "metadata": {},
     "output_type": "display_data"
    },
    {
     "data": {
      "text/markdown": [
       "{\"Answer_Type\": \"reasoning\", \"Question\": \"Warum ist es wichtig, dass der Scrum\n",
       "Guide nicht verändert wird?\", \"Answer\": \"Der Scrum Guide enthält die Definition\n",
       "von Scrum. Jedes Element von Scrum dient einem bestimmten Zweck, der für den\n",
       "Gesamtwert und die mit Scrum erzielten Ergebnisse wesentlich ist. Den Kern oder\n",
       "die Grundideen von Scrum zu verändern, Elemente wegzulassen oder den Regeln von\n",
       "Scrum nicht zu folgen, verdeckt Probleme, begrenzt den Nutzen und macht Scrum im\n",
       "Zweifel sogar nutzlos.\"}"
      ],
      "text/plain": [
       "<IPython.core.display.Markdown object>"
      ]
     },
     "metadata": {},
     "output_type": "display_data"
    },
    {
     "data": {
      "text/markdown": [
       "{\"Answer_Type\": \"Numeric\", \"Question\": \"Wie viele Seiten umfasst der Scrum Guide\n",
       "im Deutschen?\", \"Answer\": \"14\"}"
      ],
      "text/plain": [
       "<IPython.core.display.Markdown object>"
      ]
     },
     "metadata": {},
     "output_type": "display_data"
    },
    {
     "data": {
      "text/markdown": [
       "{\"Answer_Type\": \"summary\", \"Question\": \"Was ist der Scrum Guide und was ist sein\n",
       "Zweck?\", \"Answer\": \"Der Scrum Guide ist ein Leitfaden für Scrum, der die\n",
       "Definition von Scrum und die Spielregeln für seine Anwendung enthält. Sein Zweck\n",
       "ist es, Menschen auf der ganzen Welt dabei zu helfen, Scrum zu verstehen und\n",
       "erfolgreich anzuwenden.\"}"
      ],
      "text/plain": [
       "<IPython.core.display.Markdown object>"
      ]
     },
     "metadata": {},
     "output_type": "display_data"
    },
    {
     "data": {
      "text/markdown": [
       "{\"Answer_Type\": \"People\", \"Question\": \"Wer sind die Autoren des Scrum Guides?\",\n",
       "\"Answer\": \"Ken Schwaber und Jeff Sutherland\"}"
      ],
      "text/plain": [
       "<IPython.core.display.Markdown object>"
      ]
     },
     "metadata": {},
     "output_type": "display_data"
    },
    {
     "data": {
      "text/markdown": [
       "{\"Answer_Type\": \"Place\", \"Question\": \"Wo wurde Scrum zum ersten Mal auf einer\n",
       "Konferenz vorgestellt?\", \"Answer\": \"OOPSLA Konferenz 1995\"}"
      ],
      "text/plain": [
       "<IPython.core.display.Markdown object>"
      ]
     },
     "metadata": {},
     "output_type": "display_data"
    },
    {
     "data": {
      "text/markdown": [
       "{\"Answer_Type\": \"Time\", \"Question\": \"Wann wurde der Scrum Guide zum ersten Mal\n",
       "veröffentlicht?\", \"Answer\": \"2010\"}"
      ],
      "text/plain": [
       "<IPython.core.display.Markdown object>"
      ]
     },
     "metadata": {},
     "output_type": "display_data"
    },
    {
     "name": "stdout",
     "output_type": "stream",
     "text": [
      "Input Tokens: 83832 Input Cost: 0 dollars 0.62874 cents\n",
      "Output Tokens: 374 Output Cost: 0 dollars 0.01122 cents\n",
      "Total Tokens: 84206 Total Cost: 0 dollars 0.63996 cents\n",
      "['{\"Answer_Type\": \"text\", \"Question\": \"Wer hat den Scrum Guide geschrieben?\", \"Answer\": \"Ken Schwaber und Jeff Sutherland haben den Scrum Guide geschrieben.\"}\\n', '{\"Answer_Type\": \"numeric\", \"Question\": \"Wie viele Seiten umfasst der Scrum Guide 2020?\", \"Answer\": \"13\"}\\n', '{\"Answer_Type\": \"reasoning\", \"Question\": \"Warum ist es wichtig, dass der Scrum Guide nicht verändert wird?\", \"Answer\": \"Der Scrum Guide enthält die Definition von Scrum. Jedes Element von Scrum dient einem bestimmten Zweck, der für den Gesamtwert und die mit Scrum erzielten Ergebnisse wesentlich ist. Den Kern oder die Grundideen von Scrum zu verändern, Elemente wegzulassen oder den Regeln von Scrum nicht zu folgen, verdeckt Probleme, begrenzt den Nutzen und macht Scrum im Zweifel sogar nutzlos.\"}\\n', '{\"Answer_Type\": \"Numeric\", \"Question\": \"Wie viele Seiten umfasst der Scrum Guide im Deutschen?\", \"Answer\": \"14\"}\\n', '{\"Answer_Type\": \"summary\", \"Question\": \"Was ist der Scrum Guide und was ist sein Zweck?\", \"Answer\": \"Der Scrum Guide ist ein Leitfaden für Scrum, der die Definition von Scrum und die Spielregeln für seine Anwendung enthält. Sein Zweck ist es, Menschen auf der ganzen Welt dabei zu helfen, Scrum zu verstehen und erfolgreich anzuwenden.\"}\\n', '{\"Answer_Type\": \"People\", \"Question\": \"Wer sind die Autoren des Scrum Guides?\", \"Answer\": \"Ken Schwaber und Jeff Sutherland\"}\\n', '{\"Answer_Type\": \"Place\", \"Question\": \"Wo wurde Scrum zum ersten Mal auf einer Konferenz vorgestellt?\", \"Answer\": \"OOPSLA Konferenz 1995\"}\\n', '{\"Answer_Type\": \"Time\", \"Question\": \"Wann wurde der Scrum Guide zum ersten Mal veröffentlicht?\", \"Answer\": \"2010\"}\\n']\n",
      "FAQ HTML page generated successfully: faq.html\n"
     ]
    }
   ],
   "source": [
    "if __name__ == \"__main__\":\n",
    "    qa_list=[]\n",
    "    qa_agent=QA_agent(\"QA_agent\", QA_role)\n",
    "    qa_agent.reset_costs()\n",
    "    qa_list.append(generate_QA(qa_agent, text,\"text\"))\n",
    "    qa_list.append(generate_QA(qa_agent, text,\"numeric\"))\n",
    "    qa_list.append(generate_QA(qa_agent, text,\"reasoning\"))\n",
    "    qa_list.append(generate_QA(qa_agent, text,\"math\"))\n",
    "    qa_list.append(generate_QA(qa_agent, text,\"summary\"))\n",
    "    qa_list.append(generate_QA(qa_agent, text,\"people\"))\n",
    "    qa_list.append(generate_QA(qa_agent, text,\"place\"))\n",
    "    qa_list.append(generate_QA(qa_agent, text,\"time\"))\n",
    "\n",
    "    qa_agent.cost()\n",
    "    print(qa_list)\n",
    "    generate_faq_html(qa_list)"
   ]
  },
  {
   "cell_type": "code",
   "execution_count": 66,
   "metadata": {},
   "outputs": [
    {
     "data": {
      "text/plain": [
       "True"
      ]
     },
     "execution_count": 66,
     "metadata": {},
     "output_type": "execute_result"
    }
   ],
   "source": [
    "import webbrowser\n",
    "webbrowser.open(f\"file://{os.path.abspath('./faq.html')}\")"
   ]
  }
 ],
 "metadata": {
  "kernelspec": {
   "display_name": "Python 3",
   "language": "python",
   "name": "python3"
  },
  "language_info": {
   "codemirror_mode": {
    "name": "ipython",
    "version": 3
   },
   "file_extension": ".py",
   "mimetype": "text/x-python",
   "name": "python",
   "nbconvert_exporter": "python",
   "pygments_lexer": "ipython3",
   "version": "3.11.9"
  }
 },
 "nbformat": 4,
 "nbformat_minor": 2
}
